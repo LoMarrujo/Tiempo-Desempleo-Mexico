{
 "cells": [
  {
   "cell_type": "code",
   "execution_count": 1,
   "id": "866c9f44",
   "metadata": {},
   "outputs": [],
   "source": [
    "import numpy as np\n",
    "import pandas as pd\n",
    "from processing_enoe_frailty import *"
   ]
  },
  {
   "cell_type": "markdown",
   "id": "c530daf3",
   "metadata": {},
   "source": [
    "# 0. Data Modelling\n",
    "\n",
    "## 0.1 Data modeling process by IBM\n",
    "\n",
    "As a discipline, data modeling invites stakeholders to evaluate data processing and storage in painstaking detail.\n",
    "\n",
    "Those workflows generally look like this:\n",
    "\n",
    "0. **Understand Requirements.** Start by thoroughly understanding the requirements of the system or application you are designing. Engage with stakeholders, including end-users, to gather and document their needs and expectations.\n",
    "\n",
    "1. **Identify the entities.** The process of data modeling begins with the identification of the things, events or concepts that are represented in the data set that is to be modeled. Each entity should be cohesive and logically discrete from all others.\n",
    "\n",
    "2. **Define the key properties or attributes of each entity.** Each entity type can be differentiated from all others because it has one or more unique properties, called attributes. For instance, an entity called “customer” might possess such attributes as a first name, last name, telephone number and salutation, while an entity called “address” might include a street name and number, a city, state, country and zip code.\n",
    "    \n",
    "3. **Establish relationships among entities.** The earliest draft of a data model will specify the nature of the relationships each entity has with the others. In the above example, each customer “lives at” an address. If that model were expanded to include an entity called “orders,” each order would be shipped to and billed to an address as well.** These relationships are usually documented via unified modeling language (UML).\n",
    "    \n",
    "4. **Map attributes to entities completely.** This will ensure the model reflects how the business will use the data. Several formal data modeling patterns are in widespread use. Object-oriented developers often apply analysis patterns or design patterns, while stakeholders from other business domains may turn to other patterns.\n",
    "\n",
    "5. **Choose Appropriate Data Types.** Select appropriate data types for each attribute based on the nature of the data. Consider factors such as data size, precision, and the range of values. Common data types include integers, strings, dates, and decimals.\n",
    "\n",
    "6. **Assign keys as needed, and decide on a degree of normalization that balances the need to reduce redundancy with performance requirements.** Normalization is a technique for organizing data models (and the databases they represent) in which numerical identifiers, called keys, are assigned to groups of data to represent relationships between them without repeating the data. For instance, if customers are each assigned a key, that key can be linked to both their address and their order history without having to repeat this information in the table of customer names. Normalization tends to reduce the amount of storage space a database will require, but it can at cost to query performance.\n",
    "\n",
    "7. **Consider Performance.** Factor in performance considerations during the design phase. Evaluate how the data model will perform under different scenarios, and optimize the design accordingly. Indexing, partitioning, and denormalization may be considered for performance optimization.\n",
    "\n",
    "8. **Document the Data Model.** Create comprehensive documentation for the data model. Include entity-relationship diagrams (ERDs), attribute definitions, relationship definitions, and any business rules associated with the data model. Clear documentation is essential for communication and maintenance.\n",
    "\n",
    "9. **Finalize and validate the data model.** Data modeling is an iterative process that should be repeated and refined as business needs change. Collaborate closely with stakeholders, including database administrators, developers, and business analysts. Ensure that the data model aligns with both technical and business requirements.\n",
    "\n",
    "10. **Tool Selection** Choose appropriate tools for creating and managing your data model. There are various database design tools available that can help you create visual representations of your data model and generate SQL scripts for database creation.\n",
    "\n",
    "\n",
    "## 0.2 Applied Data modeling process by IBM"
   ]
  },
  {
   "cell_type": "markdown",
   "id": "d347d840",
   "metadata": {},
   "source": [
    "### 0.2.0 Requirements\n",
    "Due to the nature of the model and objectives of research, we start by enunciating what we need:\n",
    "\n",
    "We need a table with the data with the mexican unemployed population in the ENOE (thanks INEGI!) where each row is an individual who is unemployed and gets a job or keeps searching for a job at the end of the survey that follows that individual. It was determined that the period of interest would be 2019:i-2020:i as it was the latest survey to be completed at the time of estabilishing the research objectives. The characteristics of interest are: a time to employment (time to failure) which happens to interval censored so in reality is two times of observation in betweeen the failure happens, an indicator for right-censoring, the age of the individual at the start of the survey, the education level of the individual at the start of the survey, the gender of the individual, an indicator for work experience, an indicator for the position in the household, the number of children in the household, and an indicator for the state in which the individual resides.\n",
    "\n",
    "### 0.2.1 Entities\n",
    "The entities are: unemployed mexicans in the mexican labor market. \n",
    "\n",
    "### 0.2.2 Attributes\n",
    "The attributes are: left time, right time, indicator right-censored, age, education level, gender, indicator work experience, household position, number of children, state.\n",
    "\n",
    "### 0.2.3 Relationships \n",
    "Only one table and due to objectives, no relationships in a data modelling sense, where identified. \n",
    "\n",
    "### 0.2.4 Attribute Mapping\n",
    "We will use the attributes in a statistical model, for research purposes. \n",
    "\n",
    "### 0.2.5 Data Types\n",
    "Appropiate data types:\n",
    " - Time to employment, both numerical. Int could be preferred for storage or scalability, if it were a concern.\n",
    " - Indicator right-censored, integer. \n",
    " - Age, integer.\n",
    " - Education level, integer.\n",
    " - Gender, integer.\n",
    " - Work experience, integer.\n",
    " - Hosehold position, integer. \n",
    " - Number of children, integer.\n",
    " - State indicator, integer.\n",
    "\n",
    "### 0.2.7 Keys\n",
    "!!! Keys will be created from source data.\n",
    "\n",
    "### 0.2.8 Data Model\n",
    "!!!\n",
    "\n",
    "### 0.2.10 Tools\n",
    "Python and Github."
   ]
  },
  {
   "cell_type": "code",
   "execution_count": 101,
   "id": "f418d3a9",
   "metadata": {},
   "outputs": [],
   "source": [
    "# carga csv\n",
    "df_2019_1 = pd.read_csv(r'C:\\Users\\luis9\\OneDrive\\CIMAT PPE\\Semestres\\S04\\Tesis\\!data\\2019trim1_csv/sdemt119.csv', low_memory=False)\n",
    "df_2019_2 = pd.read_csv(r'C:\\Users\\luis9\\OneDrive\\CIMAT PPE\\Semestres\\S04\\Tesis\\!data\\2019trim2_csv/sdemt219.csv', low_memory=False)\n",
    "df_2019_3 = pd.read_csv(r'C:\\Users\\luis9\\OneDrive\\CIMAT PPE\\Semestres\\S04\\Tesis\\!data\\2019trim3_csv/sdemt319.csv', low_memory=False)\n",
    "df_2019_4 = pd.read_csv(r'C:\\Users\\luis9\\OneDrive\\CIMAT PPE\\Semestres\\S04\\Tesis\\!data\\2019trim4_csv/sdemt419.csv', low_memory=False)\n",
    "df_2020_1 = pd.read_csv(r'C:\\Users\\luis9\\OneDrive\\CIMAT PPE\\Semestres\\S04\\Tesis\\!data\\2019trim4_csv/sdemt419.csv', low_memory=False)"
   ]
  },
  {
   "cell_type": "code",
   "execution_count": 103,
   "id": "338496c7",
   "metadata": {},
   "outputs": [],
   "source": [
    "df_dict = {\n",
    "    'df_1' : df_2019_1,\n",
    "    'df_2' : df_2019_2,\n",
    "    'df_3' : df_2019_3,\n",
    "    'df_4' : df_2019_4,\n",
    "    'df_5' : df_2020_1\n",
    "}\n",
    "\n",
    "columns_interest_enoe = [\n",
    "    'cd_a','ent', 'con', 'v_sel',\n",
    "    'n_hog', 'n_ren', 'sex', 'eda',\n",
    "    'cs_p13_1','n_hij', 'e_con', \n",
    "    'clase1', 'clase2', 'clase3',\n",
    "    'd_ant_lab', 'dur_des'\n",
    "    ]\n",
    "\n",
    "n_og_df = len(df_dict.keys())\n",
    "for df, name in zip(\n",
    "    df_dict.values(), df_dict.keys()\n",
    "    ):\n",
    "    #  data with complete surveys,\n",
    "    #  columns of interest\n",
    "    df_dict[name] = ((\n",
    "        df_dict[name])[df_dict[name].r_def == 0])[\n",
    "            columns_interest_enoe].sort_values([\n",
    "                'cd_a', 'ent', 'con', 'v_sel',\n",
    "                'n_hog', 'n_ren']\n",
    "                ).reset_index(drop=True)\n",
    "    #  define unique key for each individual\n",
    "    df_dict[name]['id'] = (df_dict[name].cd_a.astype(str\n",
    "        ) + df_dict[name].ent.astype(str\n",
    "        ) + df_dict[name].con.astype(str\n",
    "        ) + df_dict[name].v_sel.astype(str\n",
    "        ) + df_dict[name].n_hog.astype(str\n",
    "        ) + df_dict[name].n_ren.astype(str)\n",
    "        ).astype(np.int64)\n",
    "    #\n",
    "    (df_dict[name])['ocupado'] = ((df_dict[name].clase1==1) & (df_dict[name].clase2==1))\n",
    "    (df_dict[name])['desocupado'] = ((\n",
    "        (df_dict[name]['clase1']==1) & (df_dict[name]['clase2']==2)\n",
    "        ) & (\n",
    "        (df_dict[name]['clase3']==5) | (df_dict[name]['clase3']==6)\n",
    "        ) & (\n",
    "        df_dict[name]['dur_des'] != 6\n",
    "        ))\n",
    "    (df_dict[name])['de_interes'] = ((\n",
    "        (df_dict[name]).ocupado | (\n",
    "        df_dict[name]).desocupado\n",
    "        ))\n",
    "    \n",
    "    df_dict[name] = (df_dict[name])[df_dict[name].de_interes]"
   ]
  },
  {
   "cell_type": "code",
   "execution_count": 104,
   "id": "45b9243b",
   "metadata": {},
   "outputs": [],
   "source": [
    "for j in np.arange(n_og_df)+1:\n",
    "    # \n",
    "    df_dict[f'df_desocupados_{j}'] = (df_dict[name])[\n",
    "        (df_dict[name]).desocupado]\n",
    "    \n",
    "    df_dict[f'df_ocupados_{j}'] = (df_dict[name])[\n",
    "        (df_dict[name]).ocupado]"
   ]
  },
  {
   "cell_type": "code",
   "execution_count": 106,
   "id": "f9046a7a",
   "metadata": {},
   "outputs": [
    {
     "data": {
      "text/plain": [
       "False"
      ]
     },
     "execution_count": 106,
     "metadata": {},
     "output_type": "execute_result"
    }
   ],
   "source": [
    "df_dict[f'df_desocupados_{1}'].id.isin(df_dict[f'df_ocupados_{2}'].id).any()"
   ]
  },
  {
   "cell_type": "code",
   "execution_count": null,
   "id": "0e456d8f",
   "metadata": {},
   "outputs": [],
   "source": []
  },
  {
   "cell_type": "code",
   "execution_count": null,
   "id": "03878308",
   "metadata": {},
   "outputs": [],
   "source": []
  },
  {
   "cell_type": "code",
   "execution_count": null,
   "id": "dbb0ee81",
   "metadata": {},
   "outputs": [],
   "source": []
  },
  {
   "cell_type": "code",
   "execution_count": null,
   "id": "678a8e6d",
   "metadata": {},
   "outputs": [],
   "source": []
  },
  {
   "cell_type": "code",
   "execution_count": 47,
   "id": "b2edc8a0",
   "metadata": {},
   "outputs": [
    {
     "name": "stdout",
     "output_type": "stream",
     "text": [
      "1 2\n",
      "0\n",
      "2 3\n",
      "0\n",
      "3 4\n",
      "0\n",
      "4 5\n",
      "0\n"
     ]
    }
   ],
   "source": [
    "for j in np.arange(n_og_df)+1:\n",
    "    if j<n_og_df:\n",
    "        df_dict[f'df_desempleados_{j}'].id.isin(\n",
    "            df_dict[f'df_ocupados_{j+1}'].id.values\n",
    "        )\n",
    "\n",
    "        print(j, j+1)\n",
    "        print(        df_dict[f'df_desempleados_{j}'].id.isin(\n",
    "            df_dict[f'df_ocupados_{j+1}'].id\n",
    "        ).sum())"
   ]
  },
  {
   "cell_type": "code",
   "execution_count": 34,
   "id": "ef8c97a9",
   "metadata": {},
   "outputs": [
    {
     "data": {
      "text/plain": [
       "False"
      ]
     },
     "execution_count": 34,
     "metadata": {},
     "output_type": "execute_result"
    }
   ],
   "source": [
    "        df_dict[f'df_desempleados_{4}'].id.isin(\n",
    "            df_dict[f'df_ocupados_{5}'].id.values\n",
    "        ).any()"
   ]
  },
  {
   "cell_type": "code",
   "execution_count": null,
   "id": "2eac47aa",
   "metadata": {},
   "outputs": [],
   "source": []
  },
  {
   "cell_type": "code",
   "execution_count": 86,
   "id": "c3cb0615",
   "metadata": {},
   "outputs": [],
   "source": [
    "# carga csv\n",
    "df2019_1 = pd.read_csv(r'C:\\Users\\luis9\\OneDrive\\CIMAT PPE\\Semestres\\S04\\Tesis\\!data\\2019trim1_csv/sdemt119.csv', low_memory=False)\n",
    "df2019_2 = pd.read_csv(r'C:\\Users\\luis9\\OneDrive\\CIMAT PPE\\Semestres\\S04\\Tesis\\!data\\2019trim2_csv/sdemt219.csv', low_memory=False)\n",
    "df2019_3 = pd.read_csv(r'C:\\Users\\luis9\\OneDrive\\CIMAT PPE\\Semestres\\S04\\Tesis\\!data\\2019trim3_csv/sdemt319.csv', low_memory=False)\n",
    "df2019_4 = pd.read_csv(r'C:\\Users\\luis9\\OneDrive\\CIMAT PPE\\Semestres\\S04\\Tesis\\!data\\2019trim4_csv/sdemt419.csv', low_memory=False)\n",
    "df2020_1 = pd.read_csv(r'C:\\Users\\luis9\\OneDrive\\CIMAT PPE\\Semestres\\S04\\Tesis\\!data\\2019trim4_csv/sdemt419.csv', low_memory=False)\n",
    "\n",
    "# filtra las entrevistas del INEGI completas\n",
    "df2019_1 = df2019_1[df2019_1['r_def'] == 0] \n",
    "df2019_2 = df2019_2[df2019_2['r_def'] == 0] \n",
    "df2019_3 = df2019_3[df2019_3['r_def'] == 0] \n",
    "df2019_4 = df2019_4[df2019_4['r_def'] == 0] \n",
    "df2020_1 = df2020_1[df2020_1['r_def'] == 0] \n",
    "\n",
    "# filtra variables de interés e IDs\n",
    "df2019_1_f = df2019_1[['cd_a','ent', 'con', 'v_sel', 'n_hog',  'n_ren', 'sex', 'eda',  'cs_p13_1','n_hij', 'e_con', 'clase1', 'clase2', 'clase3',  'd_ant_lab', 'dur_des']]\n",
    "df2019_2_f = df2019_2[['cd_a','ent', 'con', 'v_sel', 'n_hog',  'n_ren', 'sex', 'eda',  'cs_p13_1','n_hij', 'e_con', 'clase1', 'clase2', 'clase3',  'd_ant_lab', 'dur_des']]\n",
    "df2019_3_f = df2019_3[['cd_a','ent', 'con', 'v_sel', 'n_hog',  'n_ren', 'sex', 'eda',  'cs_p13_1','n_hij', 'e_con', 'clase1', 'clase2', 'clase3',  'd_ant_lab', 'dur_des']]\n",
    "df2019_4_f = df2019_4[['cd_a','ent', 'con', 'v_sel', 'n_hog',  'n_ren', 'sex', 'eda',  'cs_p13_1','n_hij', 'e_con', 'clase1', 'clase2', 'clase3',  'd_ant_lab', 'dur_des']]\n",
    "df2020_1_f = df2020_1[['cd_a','ent', 'con', 'v_sel', 'n_hog',  'n_ren', 'sex', 'eda',  'cs_p13_1','n_hij', 'e_con', 'clase1', 'clase2', 'clase3',  'd_ant_lab', 'dur_des']]\n",
    "\n",
    "df2019_1_f = df2019_1_f.sort_values(['cd_a', 'ent', 'con', 'v_sel', 'n_hog', 'n_ren']).reset_index()\n",
    "df2019_2_f = df2019_2_f.sort_values(['cd_a', 'ent', 'con', 'v_sel', 'n_hog', 'n_ren']).reset_index()\n",
    "df2019_3_f = df2019_3_f.sort_values(['cd_a', 'ent', 'con', 'v_sel', 'n_hog', 'n_ren']).reset_index()\n",
    "df2019_4_f = df2019_4_f.sort_values(['cd_a', 'ent', 'con', 'v_sel', 'n_hog', 'n_ren']).reset_index()\n",
    "df2020_1_f = df2020_1_f.sort_values(['cd_a', 'ent', 'con', 'v_sel', 'n_hog', 'n_ren']).reset_index()\n",
    "\n",
    "# definimos variable identificadore única de cada individuo \n",
    "df2019_1_f['ID'] = df2019_1_f.cd_a.astype(str) + df2019_1_f.ent.astype(str) + df2019_1_f.con.astype(str) +  df2019_1_f.v_sel.astype(str) + df2019_1_f.n_hog.astype(str) + df2019_1_f.n_ren.astype(str) \n",
    "df2019_2_f['ID'] = df2019_2_f.cd_a.astype(str) + df2019_2_f.ent.astype(str) + df2019_2_f.con.astype(str) +  df2019_2_f.v_sel.astype(str) + df2019_2_f.n_hog.astype(str) + df2019_2_f.n_ren.astype(str) \n",
    "df2019_3_f['ID'] = df2019_3_f.cd_a.astype(str) + df2019_3_f.ent.astype(str) + df2019_3_f.con.astype(str) +  df2019_3_f.v_sel.astype(str) + df2019_3_f.n_hog.astype(str) + df2019_3_f.n_ren.astype(str) \n",
    "df2019_4_f['ID'] = df2019_4_f.cd_a.astype(str) + df2019_4_f.ent.astype(str) + df2019_4_f.con.astype(str) +  df2019_4_f.v_sel.astype(str) + df2019_4_f.n_hog.astype(str) + df2019_4_f.n_ren.astype(str) \n",
    "df2020_1_f['ID'] = df2020_1_f.cd_a.astype(str) + df2020_1_f.ent.astype(str) + df2020_1_f.con.astype(str) +  df2020_1_f.v_sel.astype(str) + df2020_1_f.n_hog.astype(str) + df2020_1_f.n_ren.astype(str) \n",
    "\n",
    "# selecciona variables de interés\n",
    "df2019_1_f = df2019_1_f[['cd_a', 'ent', 'con', 'v_sel', 'n_hog', 'n_ren', 'sex', 'eda','cs_p13_1','n_hij', 'e_con', 'clase1', 'clase2', 'clase3', 'd_ant_lab','dur_des', 'ID']]\n",
    "df2019_2_f = df2019_2_f[['cd_a', 'ent', 'con', 'v_sel', 'n_hog', 'n_ren', 'sex', 'eda','cs_p13_1','n_hij', 'e_con', 'clase1', 'clase2', 'clase3', 'd_ant_lab','dur_des', 'ID']]\n",
    "df2019_3_f = df2019_3_f[['cd_a', 'ent', 'con', 'v_sel', 'n_hog', 'n_ren', 'sex', 'eda','cs_p13_1','n_hij', 'e_con', 'clase1', 'clase2', 'clase3', 'd_ant_lab','dur_des', 'ID']]\n",
    "df2019_4_f = df2019_4_f[['cd_a', 'ent', 'con', 'v_sel', 'n_hog', 'n_ren', 'sex', 'eda','cs_p13_1','n_hij', 'e_con', 'clase1', 'clase2', 'clase3', 'd_ant_lab','dur_des', 'ID']]\n",
    "df2020_1_f = df2020_1_f[['cd_a', 'ent', 'con', 'v_sel', 'n_hog', 'n_ren', 'sex', 'eda','cs_p13_1','n_hij', 'e_con', 'clase1', 'clase2', 'clase3', 'd_ant_lab','dur_des', 'ID']]"
   ]
  },
  {
   "cell_type": "code",
   "execution_count": 88,
   "id": "c1005920",
   "metadata": {},
   "outputs": [],
   "source": [
    "# obtenemos poblaciones de interés\n",
    "pea_2019_1 = (df2019_1_f['clase1']==1)\n",
    "pea_2019_2 = (df2019_2_f['clase1']==1)\n",
    "pea_2019_3 = (df2019_3_f['clase1']==1)\n",
    "pea_2019_4 = (df2019_4_f['clase1']==1)\n",
    "pea_2020_1 = (df2020_1_f['clase1']==1)\n",
    "\n",
    "pnea_2019_1 = (df2019_1_f['clase1']==2)\n",
    "pnea_2019_2 = (df2019_2_f['clase1']==2)\n",
    "pnea_2019_3 = (df2019_3_f['clase1']==2)\n",
    "pnea_2019_4 = (df2019_4_f['clase1']==2)\n",
    "pnea_2020_1 = (df2020_1_f['clase1']==2)\n",
    "\n",
    "ocupados_2019_1 = ((df2019_1_f['clase1']==1) & (df2019_1_f['clase2']==1))\n",
    "ocupados_2019_2 = ((df2019_2_f['clase1']==1) & (df2019_2_f['clase2']==1))\n",
    "ocupados_2019_3 = ((df2019_3_f['clase1']==1) & (df2019_3_f['clase2']==1))\n",
    "ocupados_2019_4 = ((df2019_4_f['clase1']==1) & (df2019_4_f['clase2']==1))\n",
    "ocupados_2020_1 = ((df2020_1_f['clase1']==1) & (df2020_1_f['clase2']==1))\n",
    "\n",
    "desocupados_2019_1 = ((df2019_1_f['clase1']==1) & (df2019_1_f['clase2']==2))\n",
    "desocupados_2019_2 = ((df2019_2_f['clase1']==1) & (df2019_2_f['clase2']==2))\n",
    "desocupados_2019_3 = ((df2019_3_f['clase1']==1) & (df2019_3_f['clase2']==2))\n",
    "desocupados_2019_4 = ((df2019_4_f['clase1']==1) & (df2019_4_f['clase2']==2))\n",
    "desocupados_2020_1 = ((df2020_1_f['clase1']==1) & (df2020_1_f['clase2']==2))\n",
    "\n",
    "disponibles_2019_1 = ((df2019_1_f['clase1']==1) & (df2019_1_f['clase2']==3))\n",
    "disponibles_2019_2 = ((df2019_2_f['clase1']==1) & (df2019_2_f['clase2']==3))\n",
    "disponibles_2019_3 = ((df2019_3_f['clase1']==1) & (df2019_3_f['clase2']==3))\n",
    "disponibles_2019_4 = ((df2019_4_f['clase1']==1) & (df2019_4_f['clase2']==3))\n",
    "disponibles_2020_1 = ((df2020_1_f['clase1']==1) & (df2020_1_f['clase2']==3))\n",
    "\n",
    "no_disponib_2019_1 = ((df2019_1_f['clase1']==1) & (df2019_1_f['clase2']==4))\n",
    "no_disponib_2019_2 = ((df2019_2_f['clase1']==1) & (df2019_2_f['clase2']==4))\n",
    "no_disponib_2019_3 = ((df2019_3_f['clase1']==1) & (df2019_3_f['clase2']==4))\n",
    "no_disponib_2019_4 = ((df2019_4_f['clase1']==1) & (df2019_4_f['clase2']==4))\n",
    "no_disponib_2020_1 = ((df2020_1_f['clase1']==1) & (df2020_1_f['clase2']==4))\n",
    "\n",
    "# columna que indica individuos en desempleo abierto\n",
    "desempleados_2019_1 = ((df2019_1_f['clase1']==1) & (df2019_1_f['clase2']==2)) & ((df2019_1_f['clase3']==5) | (df2019_1_f['clase3']==6))  & (df2019_1_f['dur_des']  != 6)\n",
    "desempleados_2019_2 = ((df2019_2_f['clase1']==1) & (df2019_2_f['clase2']==2)) & ((df2019_2_f['clase3']==5) | (df2019_2_f['clase3']==6))  & (df2019_2_f['dur_des']  != 6)\n",
    "desempleados_2019_3 = ((df2019_3_f['clase1']==1) & (df2019_3_f['clase2']==2)) & ((df2019_3_f['clase3']==5) | (df2019_3_f['clase3']==6))  & (df2019_3_f['dur_des']  != 6)\n",
    "desempleados_2019_4 = ((df2019_4_f['clase1']==1) & (df2019_4_f['clase2']==2)) & ((df2019_4_f['clase3']==5) | (df2019_4_f['clase3']==6))  & (df2019_4_f['dur_des']  != 6)\n",
    "desempleados_2020_1 = ((df2020_1_f['clase1']==1) & (df2020_1_f['clase2']==2)) & ((df2020_1_f['clase3']==5) | (df2020_1_f['clase3']==6))  & (df2020_1_f['dur_des']  != 6)"
   ]
  },
  {
   "cell_type": "code",
   "execution_count": 89,
   "id": "3fa7645e",
   "metadata": {},
   "outputs": [],
   "source": [
    "df_dese_2019_i   = df2019_1_f[desempleados_2019_1]\n",
    "df_dese_2019_ii  = df2019_2_f[desempleados_2019_2]\n",
    "df_dese_2019_iii = df2019_3_f[desempleados_2019_3]\n",
    "df_dese_2019_iv  = df2019_4_f[desempleados_2019_4]\n",
    "df_dese_2020_i   = df2020_1_f[desempleados_2020_1]\n",
    "\n",
    "df_ocup_2019_i   = df2019_1_f[ocupados_2019_1]\n",
    "df_ocup_2019_ii  = df2019_2_f[ocupados_2019_2]\n",
    "df_ocup_2019_iii = df2019_3_f[ocupados_2019_3]\n",
    "df_ocup_2019_iv  = df2019_4_f[ocupados_2019_4]\n",
    "df_ocup_2020_i   = df2020_1_f[ocupados_2020_1]"
   ]
  },
  {
   "cell_type": "code",
   "execution_count": 90,
   "id": "231a4d4c",
   "metadata": {},
   "outputs": [],
   "source": [
    "# revisa que personas estaban en desempleo y consiguieron ser empleados\n",
    "chidos_2019_i_a_2019_ii   = df_dese_2019_i[['ID']].isin(df_ocup_2019_ii['ID'].values)\n",
    "chidos_2019_ii_a_2019_iii = df_dese_2019_ii[['ID']].isin(df_ocup_2019_iii['ID'].values)\n",
    "chidos_2019_iii_a_2019_iv = df_dese_2019_iii[['ID']].isin(df_ocup_2019_iv['ID'].values)\n",
    "chidos_2019_iv_a_2020_i   = df_dese_2019_iv[['ID']].isin(df_ocup_2020_i['ID'].values)"
   ]
  },
  {
   "cell_type": "code",
   "execution_count": 91,
   "id": "b5e5ec1f",
   "metadata": {},
   "outputs": [],
   "source": [
    "# quienes siguen buscando empleo en el sig. periodo\n",
    "siguen_2019_i_a_2019_ii  = df_dese_2019_i[['ID']].isin(df_dese_2019_ii['ID'].values)\n",
    "siguen_2019_i_a_2019_iii = df_dese_2019_i[['ID']].isin(df_dese_2019_iii['ID'].values)\n",
    "siguen_2019_i_a_2019_iv  = df_dese_2019_i[['ID']].isin(df_dese_2019_iv['ID'].values)\n",
    "siguen_2019_i_a_2020_i   = df_dese_2019_i[['ID']].isin(df_dese_2020_i['ID'].values)\n",
    "\n",
    "siguen_2019_ii_a_2019_iii = df_dese_2019_ii[['ID']].isin(df_dese_2019_iii['ID'].values)\n",
    "siguen_2019_ii_a_2019_iv  = df_dese_2019_ii[['ID']].isin(df_dese_2019_iv['ID'].values)\n",
    "siguen_2019_ii_a_2020_i   = df_dese_2019_ii[['ID']].isin(df_dese_2020_i['ID'].values)\n",
    "\n",
    "siguen_2019_iii_a_2019_iv = df_dese_2019_iii[['ID']].isin(df_dese_2019_iv['ID'].values)\n",
    "siguen_2019_iii_a_2020_i  = df_dese_2019_iii[['ID']].isin(df_dese_2020_i['ID'].values)\n",
    "\n",
    "siguen_2019_iv_a_2020_i   = df_dese_2019_iv[['ID']].isin(df_dese_2020_i['ID'].values)"
   ]
  },
  {
   "cell_type": "code",
   "execution_count": 92,
   "id": "e598795c",
   "metadata": {},
   "outputs": [
    {
     "data": {
      "text/plain": [
       "(ID    725\n",
       " dtype: int64,\n",
       " ID    450\n",
       " dtype: int64,\n",
       " ID    235\n",
       " dtype: int64,\n",
       " ID    235\n",
       " dtype: int64)"
      ]
     },
     "execution_count": 92,
     "metadata": {},
     "output_type": "execute_result"
    }
   ],
   "source": [
    "siguen_2019_i_a_2019_ii.sum(),   siguen_2019_i_a_2019_iii.sum(),   siguen_2019_i_a_2019_iv.sum(),  siguen_2019_i_a_2020_i.sum()"
   ]
  },
  {
   "cell_type": "code",
   "execution_count": 93,
   "id": "b690a476",
   "metadata": {},
   "outputs": [],
   "source": [
    "# dejan de observarse en el sig periodo\n",
    "dejado_2019_i_a_2019_ii   = (~chidos_2019_i_a_2019_ii)&(~siguen_2019_i_a_2019_ii) \n",
    "dejado_2019_ii_a_2019_iii = (~chidos_2019_ii_a_2019_iii)&(~siguen_2019_ii_a_2019_iii) \n",
    "dejado_2019_iii_a_2019_iv = (~chidos_2019_iii_a_2019_iv)&(~siguen_2019_iii_a_2019_iv) \n",
    "dejado_2019_iv_a_2020_i   = (~chidos_2019_iv_a_2020_i)&(~siguen_2019_iv_a_2020_i) "
   ]
  },
  {
   "cell_type": "code",
   "execution_count": 94,
   "id": "7cf1d2fa",
   "metadata": {},
   "outputs": [],
   "source": [
    "chidos_19i_a_19ii   = df_dese_2019_i[chidos_2019_i_a_2019_ii.to_numpy().flatten()]\n",
    "chidos_19ii_a_19iii = df_dese_2019_ii[chidos_2019_ii_a_2019_iii.to_numpy().flatten()]\n",
    "chidos_19iii_a_19iv = df_dese_2019_iii[chidos_2019_iii_a_2019_iv.to_numpy().flatten()]\n",
    "chidos_19iv_a_20i   = df_dese_2019_iv[chidos_2019_iv_a_2020_i.to_numpy().flatten()]"
   ]
  },
  {
   "cell_type": "code",
   "execution_count": 95,
   "id": "f67a08eb",
   "metadata": {},
   "outputs": [],
   "source": [
    "# siguen desempleados desde el primer periodo hasta 2020:i,  etc\n",
    "des_19i_a_20_i   = df_dese_2019_i[siguen_2019_i_a_2020_i.to_numpy().flatten()]\n",
    "des_19ii_a_20_i  = df_dese_2019_ii[siguen_2019_ii_a_2020_i.to_numpy().flatten()]\n",
    "des_19iii_a_20_i = df_dese_2019_iii[siguen_2019_iii_a_2020_i.to_numpy().flatten()]\n",
    "des_19iv_a_20_i  = df_dese_2019_iv[siguen_2019_iv_a_2020_i.to_numpy().flatten()]"
   ]
  },
  {
   "cell_type": "code",
   "execution_count": 96,
   "id": "09994781",
   "metadata": {},
   "outputs": [],
   "source": [
    "# juntamos datos\n",
    "df_CHIDOS_ = pd.concat([chidos_19i_a_19ii, chidos_19ii_a_19iii, chidos_19iii_a_19iv, chidos_19iv_a_20i])\n",
    "# agrega columna indicadora\n",
    "df_CHIDOS_ = df_CHIDOS_.reset_index().join( pd.DataFrame(np.ones(df_CHIDOS_.shape[0]), columns=['Delta']) )\n",
    "df_DESE_   = df2020_1_f[desempleados_2020_1]\n",
    "# agrega columna indicadora de que estos individuos no experimentaron entrar en ocupación despues de estár desoscupados\n",
    "df_DESE_ = df_DESE_.reset_index().join( pd.DataFrame(np.zeros(df_DESE_.shape[0]), columns=['Delta']) )"
   ]
  },
  {
   "cell_type": "code",
   "execution_count": 99,
   "id": "74246f1c",
   "metadata": {},
   "outputs": [],
   "source": [
    "#guarda datos de población de interés en un solo DF\n",
    "df_FINAL_v1 = pd.concat([df_CHIDOS_[['cd_a', 'ent', 'sex', 'eda', 'cs_p13_1', 'n_hij', 'e_con', 'd_ant_lab', 'dur_des','Delta']],\n",
    "                         df_DESE_[['cd_a', 'ent', 'sex', 'eda', 'cs_p13_1', 'n_hij', 'e_con', 'd_ant_lab', 'dur_des','Delta']]], ignore_index=True)"
   ]
  },
  {
   "cell_type": "code",
   "execution_count": null,
   "id": "b8767554",
   "metadata": {},
   "outputs": [],
   "source": []
  },
  {
   "cell_type": "code",
   "execution_count": null,
   "id": "3bf21e0f",
   "metadata": {},
   "outputs": [],
   "source": []
  },
  {
   "cell_type": "code",
   "execution_count": null,
   "id": "06577287",
   "metadata": {},
   "outputs": [],
   "source": []
  },
  {
   "cell_type": "code",
   "execution_count": null,
   "id": "6a5b25da",
   "metadata": {},
   "outputs": [],
   "source": [
    "df2019_1_f[desempleados_2019_1]"
   ]
  },
  {
   "cell_type": "code",
   "execution_count": null,
   "id": "ec54a506",
   "metadata": {},
   "outputs": [],
   "source": [
    "# revisa que personas estaban en desempleo y consiguieron ser empleados\n",
    "chidos_2019_i_a_2019_ii = df_dese_2019_i[['ID']].isin(df_ocup_2019_ii['ID'].values)"
   ]
  },
  {
   "cell_type": "code",
   "execution_count": 81,
   "id": "25a3cdd0",
   "metadata": {},
   "outputs": [],
   "source": [
    "#pea_2019_1 = (df2019_1_f['clase1']==1)\n",
    "#pnea_2019_1 = (df2019_1_f['clase1']==2)\n",
    "#ocupados_2019_1 = ((df2019_1_f['clase1']==1) & (df2019_1_f['clase2']==1))\n",
    "#desocupados_2019_1 = ((df2019_1_f['clase1']==1) & (df2019_1_f['clase2']==2))\n",
    "#disponibles_2019_1 = ((df2019_1_f['clase1']==1) & (df2019_1_f['clase2']==3))\n",
    "#no_disponib_2019_1 = ((df2019_1_f['clase1']==1) & (df2019_1_f['clase2']==4))\n",
    "#desempleados_2019_1 = ((df2019_1_f['clase1']==1) & (df2019_1_f['clase2']==2)) & ((df2019_1_f['clase3']==5) | (df2019_1_f['clase3']==6))  & (df2019_1_f['dur_des']  != 6)"
   ]
  },
  {
   "cell_type": "code",
   "execution_count": 5,
   "id": "409e6d7a",
   "metadata": {},
   "outputs": [],
   "source": [
    "df_dese_2019_i   = df2019_1_f[desempleados_2019_1]\n",
    "df_dese_2019_ii  = df2019_2_f[desempleados_2019_2]\n",
    "df_dese_2019_iii = df2019_3_f[desempleados_2019_3]\n",
    "df_dese_2019_iv  = df2019_4_f[desempleados_2019_4]\n",
    "df_dese_2020_i   = df2020_1_f[desempleados_2020_1]\n",
    "\n",
    "df_ocup_2019_i   = df2019_1_f[ocupados_2019_1]\n",
    "df_ocup_2019_ii  = df2019_2_f[ocupados_2019_2]\n",
    "df_ocup_2019_iii = df2019_3_f[ocupados_2019_3]\n",
    "df_ocup_2019_iv  = df2019_4_f[ocupados_2019_4]\n",
    "df_ocup_2020_i   = df2020_1_f[ocupados_2020_1]"
   ]
  },
  {
   "cell_type": "code",
   "execution_count": 8,
   "id": "c2859d00",
   "metadata": {},
   "outputs": [],
   "source": [
    "# quienes siguen buscando empleo en el sig. periodo\n",
    "siguen_2019_i_a_2019_ii  = df_dese_2019_i[['ID']].isin(df_dese_2019_ii['ID'].values)\n",
    "siguen_2019_i_a_2019_iii = df_dese_2019_i[['ID']].isin(df_dese_2019_iii['ID'].values)\n",
    "siguen_2019_i_a_2019_iv  = df_dese_2019_i[['ID']].isin(df_dese_2019_iv['ID'].values)\n",
    "siguen_2019_i_a_2020_i   = df_dese_2019_i[['ID']].isin(df_dese_2020_i['ID'].values)\n",
    "\n",
    "siguen_2019_ii_a_2019_iii = df_dese_2019_ii[['ID']].isin(df_dese_2019_iii['ID'].values)\n",
    "siguen_2019_ii_a_2019_iv  = df_dese_2019_ii[['ID']].isin(df_dese_2019_iv['ID'].values)\n",
    "siguen_2019_ii_a_2020_i   = df_dese_2019_ii[['ID']].isin(df_dese_2020_i['ID'].values)\n",
    "\n",
    "siguen_2019_iii_a_2019_iv = df_dese_2019_iii[['ID']].isin(df_dese_2019_iv['ID'].values)\n",
    "siguen_2019_iii_a_2020_i  = df_dese_2019_iii[['ID']].isin(df_dese_2020_i['ID'].values)\n",
    "\n",
    "siguen_2019_iv_a_2020_i   = df_dese_2019_iv[['ID']].isin(df_dese_2020_i['ID'].values)"
   ]
  },
  {
   "cell_type": "code",
   "execution_count": 9,
   "id": "79ff7410",
   "metadata": {},
   "outputs": [
    {
     "data": {
      "text/plain": [
       "(ID    725\n",
       " dtype: int64,\n",
       " ID    450\n",
       " dtype: int64,\n",
       " ID    235\n",
       " dtype: int64,\n",
       " ID    235\n",
       " dtype: int64)"
      ]
     },
     "execution_count": 9,
     "metadata": {},
     "output_type": "execute_result"
    }
   ],
   "source": [
    "siguen_2019_i_a_2019_ii.sum(),   siguen_2019_i_a_2019_iii.sum(),   siguen_2019_i_a_2019_iv.sum(),  siguen_2019_i_a_2020_i.sum()"
   ]
  },
  {
   "cell_type": "code",
   "execution_count": 10,
   "id": "64ed8a28",
   "metadata": {},
   "outputs": [],
   "source": [
    "# dejan de observarse en el sig periodo\n",
    "dejado_2019_i_a_2019_ii   = (~chidos_2019_i_a_2019_ii)&(~siguen_2019_i_a_2019_ii) \n",
    "dejado_2019_ii_a_2019_iii = (~chidos_2019_ii_a_2019_iii)&(~siguen_2019_ii_a_2019_iii) \n",
    "dejado_2019_iii_a_2019_iv = (~chidos_2019_iii_a_2019_iv)&(~siguen_2019_iii_a_2019_iv) \n",
    "dejado_2019_iv_a_2020_i   = (~chidos_2019_iv_a_2020_i)&(~siguen_2019_iv_a_2020_i) "
   ]
  },
  {
   "cell_type": "code",
   "execution_count": 11,
   "id": "f70a651e",
   "metadata": {},
   "outputs": [],
   "source": [
    "chidos_19i_a_19ii   = df_dese_2019_i[chidos_2019_i_a_2019_ii.to_numpy().flatten()]\n",
    "chidos_19ii_a_19iii = df_dese_2019_ii[chidos_2019_ii_a_2019_iii.to_numpy().flatten()]\n",
    "chidos_19iii_a_19iv = df_dese_2019_iii[chidos_2019_iii_a_2019_iv.to_numpy().flatten()]\n",
    "chidos_19iv_a_20i   = df_dese_2019_iv[chidos_2019_iv_a_2020_i.to_numpy().flatten()]"
   ]
  },
  {
   "cell_type": "code",
   "execution_count": 12,
   "id": "f52df0b7",
   "metadata": {},
   "outputs": [],
   "source": [
    "# siguen desempleados desde el primer periodo hasta 2020:i,  etc\n",
    "des_19i_a_20_i   = df_dese_2019_i[siguen_2019_i_a_2020_i.to_numpy().flatten()]\n",
    "des_19ii_a_20_i  = df_dese_2019_ii[siguen_2019_ii_a_2020_i.to_numpy().flatten()]\n",
    "des_19iii_a_20_i = df_dese_2019_iii[siguen_2019_iii_a_2020_i.to_numpy().flatten()]\n",
    "des_19iv_a_20_i  = df_dese_2019_iv[siguen_2019_iv_a_2020_i.to_numpy().flatten()]"
   ]
  },
  {
   "cell_type": "code",
   "execution_count": 13,
   "id": "f7f7b02a",
   "metadata": {},
   "outputs": [],
   "source": [
    "# juntamos datos\n",
    "df_CHIDOS_ = pd.concat([chidos_19i_a_19ii, chidos_19ii_a_19iii, chidos_19iii_a_19iv, chidos_19iv_a_20i])\n",
    "# agrega columna indicadora\n",
    "df_CHIDOS_ = df_CHIDOS_.reset_index().join( pd.DataFrame(np.ones(df_CHIDOS_.shape[0]), columns=['Delta']) )\n",
    "df_DESE_   = df2020_1_f[desempleados_2020_1]\n",
    "# agrega columna indicadora de que estos individuos no experimentaron entrar en ocupación despues de estár desoscupados\n",
    "df_DESE_ = df_DESE_.reset_index().join( pd.DataFrame(np.zeros(df_DESE_.shape[0]), columns=['Delta']) )"
   ]
  },
  {
   "cell_type": "code",
   "execution_count": 14,
   "id": "ac3702d1",
   "metadata": {},
   "outputs": [],
   "source": [
    "# guarda datos de población de interés en un solo DF\n",
    "df_FINAL_v1 = pd.concat([df_CHIDOS_[['cd_a', 'ent', 'sex', 'eda', 'cs_p13_1', 'n_hij', 'e_con', 'd_ant_lab', 'dur_des','Delta']],\n",
    "                         df_DESE_[['cd_a', 'ent', 'sex', 'eda', 'cs_p13_1', 'n_hij', 'e_con', 'd_ant_lab', 'dur_des','Delta']]], ignore_index=True)"
   ]
  },
  {
   "cell_type": "code",
   "execution_count": 15,
   "id": "f6168aab",
   "metadata": {},
   "outputs": [],
   "source": [
    "# definimos variables al aplicar las funciones definidas al inicio\n",
    "df_FINAL_v1['inferior'] = df_FINAL_v1.apply(inferior, axis=1)\n",
    "df_FINAL_v1['superior'] = df_FINAL_v1.apply(superior, axis=1)\n",
    "df_FINAL_v1['imp_med']  = df_FINAL_v1.apply(imp_med, axis=1)\n",
    "df_FINAL_v1['region']   = df_FINAL_v1.apply(macro_region, axis=1)\n",
    "df_FINAL_v1['region_o'] = df_FINAL_v1['region'].astype(object)  \n",
    "df_FINAL_v1['chamacos'] = df_FINAL_v1.apply(chamacos, axis=1)\n",
    "\n",
    "df_FINAL_v1['genero']   = df_FINAL_v1.apply(genero, axis=1)\n",
    "df_FINAL_v1['niv_ed']   = df_FINAL_v1.apply(niv_ed, axis=1)\n",
    "df_FINAL_v1['ant_lab']  = df_FINAL_v1.apply(ant_lab, axis=1)\n",
    "df_FINAL_v1['eda']      = df_FINAL_v1[['eda']].astype(int)\n",
    "df_FINAL_v1['Etapa']    = df_FINAL_v1.apply(etapa_vida, axis=1)"
   ]
  },
  {
   "cell_type": "code",
   "execution_count": 16,
   "id": "7b040c5f",
   "metadata": {},
   "outputs": [
    {
     "data": {
      "text/plain": [
       "niv_ed    180\n",
       "dtype: int64"
      ]
     },
     "execution_count": 16,
     "metadata": {},
     "output_type": "execute_result"
    }
   ],
   "source": [
    "# personas que no espeficiaron nivel de educación, puede sesgar inferencias si se utiliza niv de educ\n",
    "(df_FINAL_v1[['niv_ed']] == 100).sum()"
   ]
  },
  {
   "cell_type": "code",
   "execution_count": 17,
   "id": "b38e4453",
   "metadata": {},
   "outputs": [],
   "source": [
    "# eliminamos personas que no espeficiaron nivel de educación\n",
    "df_FINAL_v1 = df_FINAL_v1[(df_FINAL_v1['niv_ed'] != 100).to_numpy()]"
   ]
  },
  {
   "cell_type": "code",
   "execution_count": 18,
   "id": "62fbd340",
   "metadata": {},
   "outputs": [
    {
     "data": {
      "text/plain": [
       "5183"
      ]
     },
     "execution_count": 18,
     "metadata": {},
     "output_type": "execute_result"
    }
   ],
   "source": [
    "(df_FINAL_v1['n_hij'] != ' ').sum()"
   ]
  },
  {
   "cell_type": "code",
   "execution_count": 19,
   "id": "b01790e3",
   "metadata": {},
   "outputs": [
    {
     "data": {
      "text/plain": [
       "0"
      ]
     },
     "execution_count": 19,
     "metadata": {},
     "output_type": "execute_result"
    }
   ],
   "source": [
    "# número de diferencia de observaciones al eliminar personas que no espeficiaron nivel de educación\n",
    "df_FINAL_v1.shape[0] - df_FINAL_v1.shape[0]"
   ]
  },
  {
   "cell_type": "code",
   "execution_count": 20,
   "id": "d7d8b82f",
   "metadata": {},
   "outputs": [],
   "source": [
    "df_FINAL_v1_chamacos = df_FINAL_v1[df_FINAL_v1['chamacos'] !=  -1]"
   ]
  },
  {
   "cell_type": "code",
   "execution_count": 21,
   "id": "6b46271c",
   "metadata": {
    "scrolled": false
   },
   "outputs": [
    {
     "data": {
      "text/plain": [
       "(0, 0, 0, 0, 0, 0)"
      ]
     },
     "execution_count": 21,
     "metadata": {},
     "output_type": "execute_result"
    }
   ],
   "source": [
    "# deben de ser (0, 0, 0, 0, 0, 0) o falta hacer algo\n",
    "(df_FINAL_v1[['region']] == -1).sum()[0], (df_FINAL_v1[['ant_lab']] == -1).sum()[0], (df_FINAL_v1[['ant_lab']] == -1).sum()[0],  (df_FINAL_v1[['inferior']] == -1).sum()[0],  (df_FINAL_v1[['superior']] == -1).sum()[0], (df_FINAL_v1[['niv_ed']] == 100).sum()[0]"
   ]
  },
  {
   "cell_type": "code",
   "execution_count": 22,
   "id": "2d852f8d",
   "metadata": {},
   "outputs": [
    {
     "data": {
      "text/plain": [
       "(0, 0)"
      ]
     },
     "execution_count": 22,
     "metadata": {},
     "output_type": "execute_result"
    }
   ],
   "source": [
    "# deben de ser (0, 0) o falta hacer algo\n",
    "(df_FINAL_v1[['eda']] < 12).sum()[0], (df_FINAL_v1[['eda']] > 98).sum()[0]"
   ]
  },
  {
   "cell_type": "code",
   "execution_count": 23,
   "id": "e153249b",
   "metadata": {
    "scrolled": true
   },
   "outputs": [],
   "source": [
    "df_FINAL_todo     = (df_FINAL_v1[['dur_des', 'imp_med', 'inferior', 'superior', 'Delta', 'cd_a', 'ent', 'region', 'genero', 'eda', 'niv_ed', 'chamacos', 'ant_lab', 'Etapa']].reset_index())[['dur_des','imp_med', 'inferior', 'superior', 'Delta', 'cd_a', 'ent', 'region', 'genero', 'eda', 'niv_ed', 'chamacos', 'ant_lab', 'Etapa']]\n",
    "df_FINAL_chamacos = (df_FINAL_v1_chamacos[['dur_des','imp_med', 'inferior', 'superior', 'Delta', 'cd_a', 'ent', 'region', 'genero', 'eda', 'niv_ed', 'chamacos', 'ant_lab', 'Etapa']].reset_index())[['dur_des','imp_med', 'inferior', 'superior', 'Delta', 'cd_a', 'ent', 'region', 'genero', 'eda', 'niv_ed', 'chamacos', 'ant_lab', 'Etapa']]"
   ]
  },
  {
   "cell_type": "code",
   "execution_count": 24,
   "id": "dd180d3f",
   "metadata": {},
   "outputs": [
    {
     "data": {
      "text/plain": [
       "5183"
      ]
     },
     "execution_count": 24,
     "metadata": {},
     "output_type": "execute_result"
    }
   ],
   "source": [
    "df_FINAL_chamacos.genero.values.sum()"
   ]
  },
  {
   "cell_type": "code",
   "execution_count": 25,
   "id": "f51ea86c",
   "metadata": {
    "scrolled": false
   },
   "outputs": [
    {
     "data": {
      "text/plain": [
       "cd_a           int64\n",
       "ent            int64\n",
       "sex           object\n",
       "eda            int32\n",
       "cs_p13_1      object\n",
       "n_hij         object\n",
       "e_con         object\n",
       "d_ant_lab      int64\n",
       "dur_des        int64\n",
       "Delta        float64\n",
       "inferior       int64\n",
       "superior       int64\n",
       "imp_med      float64\n",
       "region         int64\n",
       "region_o      object\n",
       "chamacos       int64\n",
       "genero         int64\n",
       "niv_ed         int64\n",
       "ant_lab        int64\n",
       "Etapa          int64\n",
       "dtype: object"
      ]
     },
     "execution_count": 25,
     "metadata": {},
     "output_type": "execute_result"
    }
   ],
   "source": [
    "# imprime tipo de datos en la base\n",
    "df_FINAL_v1.dtypes"
   ]
  },
  {
   "cell_type": "code",
   "execution_count": 26,
   "id": "be124cff",
   "metadata": {
    "scrolled": false
   },
   "outputs": [
    {
     "data": {
      "text/plain": [
       "cd_a         0\n",
       "ent          0\n",
       "sex          0\n",
       "eda          0\n",
       "cs_p13_1     0\n",
       "n_hij        0\n",
       "e_con        0\n",
       "d_ant_lab    0\n",
       "dur_des      0\n",
       "Delta        0\n",
       "inferior     0\n",
       "superior     0\n",
       "imp_med      0\n",
       "region       0\n",
       "region_o     0\n",
       "chamacos     0\n",
       "genero       0\n",
       "niv_ed       0\n",
       "ant_lab      0\n",
       "Etapa        0\n",
       "dtype: int64"
      ]
     },
     "execution_count": 26,
     "metadata": {},
     "output_type": "execute_result"
    }
   ],
   "source": [
    "df_FINAL_v1.isna().sum()"
   ]
  },
  {
   "cell_type": "code",
   "execution_count": 27,
   "id": "97f3f20d",
   "metadata": {},
   "outputs": [],
   "source": [
    "# guarda base de dato  en .xlsx\n",
    "df_FINAL_todo.to_excel(r'C:\\Users\\luis9\\OneDrive\\CIMAT PPE\\Semestres\\S04\\Tesis\\output.xlsx')\n",
    "df_FINAL_chamacos.to_excel(r'C:\\Users\\luis9\\OneDrive\\CIMAT PPE\\Semestres\\S04\\Tesis\\output_chamacos.xlsx')"
   ]
  }
 ],
 "metadata": {
  "kernelspec": {
   "display_name": "Python 3 (ipykernel)",
   "language": "python",
   "name": "python3"
  },
  "language_info": {
   "codemirror_mode": {
    "name": "ipython",
    "version": 3
   },
   "file_extension": ".py",
   "mimetype": "text/x-python",
   "name": "python",
   "nbconvert_exporter": "python",
   "pygments_lexer": "ipython3",
   "version": "3.11.6"
  }
 },
 "nbformat": 4,
 "nbformat_minor": 5
}
