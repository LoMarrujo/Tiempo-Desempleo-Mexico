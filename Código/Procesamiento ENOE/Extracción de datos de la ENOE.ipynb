{
 "cells": [
  {
   "cell_type": "code",
   "execution_count": 1,
   "id": "866c9f44",
   "metadata": {},
   "outputs": [],
   "source": [
    "import numpy as np\n",
    "import pandas as pd"
   ]
  },
  {
   "cell_type": "code",
   "execution_count": 2,
   "id": "f418d3a9",
   "metadata": {},
   "outputs": [],
   "source": [
    "# Definimos funciones para transformación de la ENOE a el formato apropiado para el análisis\n",
    "def inferior(row):\n",
    "    if row['dur_des'] == 1:\n",
    "        val = 0\n",
    "    elif row['dur_des'] == 2:\n",
    "        val = 1\n",
    "    elif row['dur_des'] == 3:\n",
    "        val = 3\n",
    "    elif row['dur_des'] == 4:\n",
    "        val = 6\n",
    "    elif row['dur_des'] == 5:\n",
    "        val = 12        \n",
    "    else:\n",
    "        val = -1\n",
    "    return val\n",
    "\n",
    "def superior(row):\n",
    "    if row['dur_des'] == 1:\n",
    "        val = 1\n",
    "    elif row['dur_des'] == 2:\n",
    "        val = 3\n",
    "    elif row['dur_des'] == 3:\n",
    "        val = 6\n",
    "    elif row['dur_des'] == 4:\n",
    "        val = 12\n",
    "    elif row['dur_des'] == 5:\n",
    "        val = 99  \n",
    "    else:\n",
    "        val = -1\n",
    "    return val\n",
    "\n",
    "def imp_med(row):\n",
    "    if row['dur_des'] == 1:\n",
    "        val = 0.5\n",
    "    elif row['dur_des'] == 2:\n",
    "        val = 1.5\n",
    "    elif row['dur_des'] == 3:\n",
    "        val = 3\n",
    "    elif row['dur_des'] == 4:\n",
    "        val = 6\n",
    "    elif row['dur_des'] == 5:\n",
    "        val = 12  \n",
    "    else:\n",
    "        val = -1\n",
    "    return val\n",
    "\n",
    "def macro_region(row):\n",
    "    #centro\n",
    "    if row['ent'] == 9 or row['ent'] == 15 or row['ent'] == 13 or row['ent'] == 17 or row['ent'] == 21 or row['ent'] == 22 or row['ent'] == 29:\n",
    "        val = 0\n",
    "    #centro-occidente\n",
    "    elif row['ent'] == 6 or row['ent'] == 11 or row['ent'] == 14 or row['ent'] == 16 or row['ent'] == 18:\n",
    "        val = 1 \n",
    "    #centro-norte\n",
    "    elif row['ent'] == 1 or row['ent'] == 24 or row['ent'] == 32:\n",
    "        val = 2   \n",
    "    # sur\n",
    "    elif row['ent'] == 7 or row['ent'] == 12 or row['ent'] == 20:\n",
    "        val = 3           \n",
    "    # este\n",
    "    elif row['ent'] == 30 or row['ent'] == 27:\n",
    "        val = 4   \n",
    "    # península\n",
    "    elif row['ent'] == 4 or row['ent'] == 23 or row['ent'] == 31:\n",
    "        val = 5   \n",
    "    # noreste\n",
    "    elif row['ent'] == 19 or row['ent'] == 28:\n",
    "        val = 6          \n",
    "    # noroeste\n",
    "    elif row['ent'] == 2 or row['ent'] == 3 or row['ent'] == 25 or row['ent'] == 26:\n",
    "        val = 7             \n",
    "    # norte\n",
    "    elif row['ent'] == 5 or row['ent'] == 8 or row['ent'] == 10:\n",
    "        val = 8            \n",
    "    else:\n",
    "        val = -1\n",
    "    return (val)\n",
    "\n",
    "def genero(row):\n",
    "    if row['sex'] == '1':\n",
    "        val = 0\n",
    "    elif row['sex'] == '2':\n",
    "        val = 1\n",
    "    else:\n",
    "        val = -1\n",
    "    return val\n",
    "\n",
    "def etapa_vida(row):\n",
    "    if row['eda']  < 25:\n",
    "        val = 0\n",
    "    elif (row['eda'] >= 25) & (row['eda'] < 45):\n",
    "        val = 1\n",
    "    elif (row['eda'] >= 45) & (row['eda'] < 65):\n",
    "        val = 2\n",
    "    elif (row['eda'] >= 65):\n",
    "        val = 3\n",
    "    else:\n",
    "        val = -1\n",
    "    return val\n",
    "\n",
    "def chamacos(row):\n",
    "    if row['n_hij'] == '0':\n",
    "        val = 0\n",
    "    elif row['n_hij'] == '1':\n",
    "        val = 1\n",
    "    elif row['n_hij'] == '2':\n",
    "        val = 2\n",
    "    elif row['n_hij'] == '3':\n",
    "        val = 3\n",
    "    elif row['n_hij'] == '4':\n",
    "        val = 4\n",
    "    elif row['n_hij'] == '5':\n",
    "        val = 5\n",
    "    elif row['n_hij'] == '6':\n",
    "        val = 6\n",
    "    elif row['n_hij'] == '7':\n",
    "        val = 7\n",
    "    elif row['n_hij'] == '8':\n",
    "        val = 8\n",
    "    elif row['n_hij'] == '9':\n",
    "        val = 9    \n",
    "    elif row['n_hij'] == '10':\n",
    "        val = 10     \n",
    "    elif row['n_hij'] == '11':\n",
    "        val = 11           \n",
    "    elif row['n_hij'] == '12':\n",
    "        val = 12\n",
    "    else:\n",
    "        val = -1\n",
    "    return val\n",
    "\n",
    "def ant_lab(row):\n",
    "    if row['d_ant_lab'] == 1:\n",
    "        val = 0\n",
    "    elif row['d_ant_lab'] == 2:\n",
    "        val = 1\n",
    "    else:\n",
    "        val = -1\n",
    "    return val\n",
    "\n",
    "def niv_ed(row):\n",
    "    if row['cs_p13_1'] == '1' or row['cs_p13_1'] == '2' or row['cs_p13_1'] == '3':\n",
    "        val = 0\n",
    "    elif row['cs_p13_1'] == '4' or row['cs_p13_1'] == '5':\n",
    "        val = 1\n",
    "    elif row['cs_p13_1'] == '6' or row['cs_p13_1'] == '7': \n",
    "        val = 2\n",
    "    elif row['cs_p13_1'] == '8' or row['cs_p13_1'] == '9':\n",
    "        val = 3\n",
    "    else:\n",
    "        val = 100\n",
    "    return val\n",
    "\n",
    "def edad(row):\n",
    "    if row['eda'] >= 15 or row['eda'] == '2' or row['eda'] == '3':\n",
    "        val = 0\n",
    "    elif row['cs_p13_1'] == '4' or row['cs_p13_1'] == '5':\n",
    "        val = 1\n",
    "    elif row['cs_p13_1'] == '6' or row['cs_p13_1'] == '7' or row['cs_p13_1'] == '8' or row['cs_p13_1'] == '9':\n",
    "        val = 2\n",
    "    else:\n",
    "        val = -1\n",
    "    return v"
   ]
  },
  {
   "cell_type": "code",
   "execution_count": 3,
   "id": "7198e85b",
   "metadata": {},
   "outputs": [],
   "source": [
    "# carga csv\n",
    "df2019_1 = pd.read_csv(r'C:\\Users\\luis9\\OneDrive\\CIMAT PPE\\Semestres\\S04\\Tesis\\!data\\2019trim1_csv/sdemt119.csv', low_memory=False)\n",
    "df2019_2 = pd.read_csv(r'C:\\Users\\luis9\\OneDrive\\CIMAT PPE\\Semestres\\S04\\Tesis\\!data\\2019trim2_csv/sdemt219.csv', low_memory=False)\n",
    "df2019_3 = pd.read_csv(r'C:\\Users\\luis9\\OneDrive\\CIMAT PPE\\Semestres\\S04\\Tesis\\!data\\2019trim3_csv/sdemt319.csv', low_memory=False)\n",
    "df2019_4 = pd.read_csv(r'C:\\Users\\luis9\\OneDrive\\CIMAT PPE\\Semestres\\S04\\Tesis\\!data\\2019trim4_csv/sdemt419.csv', low_memory=False)\n",
    "df2020_1 = pd.read_csv(r'C:\\Users\\luis9\\OneDrive\\CIMAT PPE\\Semestres\\S04\\Tesis\\!data\\2019trim4_csv/sdemt419.csv', low_memory=False)\n",
    "\n",
    "# filtra las entrevistas del INEGI completas\n",
    "df2019_1 = df2019_1[df2019_1['r_def'] == 0] \n",
    "df2019_2 = df2019_2[df2019_2['r_def'] == 0] \n",
    "df2019_3 = df2019_3[df2019_3['r_def'] == 0] \n",
    "df2019_4 = df2019_4[df2019_4['r_def'] == 0] \n",
    "df2020_1 = df2020_1[df2020_1['r_def'] == 0] \n",
    "\n",
    "# filtra variables de interés e IDs\n",
    "df2019_1_f = df2019_1[['cd_a','ent', 'con', 'v_sel', 'n_hog',  'n_ren', 'sex', 'eda',  'cs_p13_1','n_hij', 'e_con', 'clase1', 'clase2', 'clase3',  'd_ant_lab', 'dur_des']]\n",
    "df2019_2_f = df2019_2[['cd_a','ent', 'con', 'v_sel', 'n_hog',  'n_ren', 'sex', 'eda',  'cs_p13_1','n_hij', 'e_con', 'clase1', 'clase2', 'clase3',  'd_ant_lab', 'dur_des']]\n",
    "df2019_3_f = df2019_3[['cd_a','ent', 'con', 'v_sel', 'n_hog',  'n_ren', 'sex', 'eda',  'cs_p13_1','n_hij', 'e_con', 'clase1', 'clase2', 'clase3',  'd_ant_lab', 'dur_des']]\n",
    "df2019_4_f = df2019_4[['cd_a','ent', 'con', 'v_sel', 'n_hog',  'n_ren', 'sex', 'eda',  'cs_p13_1','n_hij', 'e_con', 'clase1', 'clase2', 'clase3',  'd_ant_lab', 'dur_des']]\n",
    "df2020_1_f = df2020_1[['cd_a','ent', 'con', 'v_sel', 'n_hog',  'n_ren', 'sex', 'eda',  'cs_p13_1','n_hij', 'e_con', 'clase1', 'clase2', 'clase3',  'd_ant_lab', 'dur_des']]\n",
    "\n",
    "df2019_1_f = df2019_1_f.sort_values(['cd_a', 'ent', 'con', 'v_sel', 'n_hog', 'n_ren']).reset_index()\n",
    "df2019_2_f = df2019_2_f.sort_values(['cd_a', 'ent', 'con', 'v_sel', 'n_hog', 'n_ren']).reset_index()\n",
    "df2019_3_f = df2019_3_f.sort_values(['cd_a', 'ent', 'con', 'v_sel', 'n_hog', 'n_ren']).reset_index()\n",
    "df2019_4_f = df2019_4_f.sort_values(['cd_a', 'ent', 'con', 'v_sel', 'n_hog', 'n_ren']).reset_index()\n",
    "df2020_1_f = df2020_1_f.sort_values(['cd_a', 'ent', 'con', 'v_sel', 'n_hog', 'n_ren']).reset_index()\n",
    "\n",
    "# definimos variable identificadore única de cada individuo \n",
    "df2019_1_f['ID'] = df2019_1_f.cd_a.astype(str) + df2019_1_f.ent.astype(str) + df2019_1_f.con.astype(str) +  df2019_1_f.v_sel.astype(str) + df2019_1_f.n_hog.astype(str) + df2019_1_f.n_ren.astype(str) \n",
    "df2019_2_f['ID'] = df2019_2_f.cd_a.astype(str) + df2019_2_f.ent.astype(str) + df2019_2_f.con.astype(str) +  df2019_2_f.v_sel.astype(str) + df2019_2_f.n_hog.astype(str) + df2019_2_f.n_ren.astype(str) \n",
    "df2019_3_f['ID'] = df2019_3_f.cd_a.astype(str) + df2019_3_f.ent.astype(str) + df2019_3_f.con.astype(str) +  df2019_3_f.v_sel.astype(str) + df2019_3_f.n_hog.astype(str) + df2019_3_f.n_ren.astype(str) \n",
    "df2019_4_f['ID'] = df2019_4_f.cd_a.astype(str) + df2019_4_f.ent.astype(str) + df2019_4_f.con.astype(str) +  df2019_4_f.v_sel.astype(str) + df2019_4_f.n_hog.astype(str) + df2019_4_f.n_ren.astype(str) \n",
    "df2020_1_f['ID'] = df2020_1_f.cd_a.astype(str) + df2020_1_f.ent.astype(str) + df2020_1_f.con.astype(str) +  df2020_1_f.v_sel.astype(str) + df2020_1_f.n_hog.astype(str) + df2020_1_f.n_ren.astype(str) \n",
    "\n",
    "# selecciona variables de interés\n",
    "df2019_1_f = df2019_1_f[['cd_a', 'ent', 'con', 'v_sel', 'n_hog', 'n_ren', 'sex', 'eda','cs_p13_1','n_hij', 'e_con', 'clase1', 'clase2', 'clase3', 'd_ant_lab','dur_des', 'ID']]\n",
    "df2019_2_f = df2019_2_f[['cd_a', 'ent', 'con', 'v_sel', 'n_hog', 'n_ren', 'sex', 'eda','cs_p13_1','n_hij', 'e_con', 'clase1', 'clase2', 'clase3', 'd_ant_lab','dur_des', 'ID']]\n",
    "df2019_3_f = df2019_3_f[['cd_a', 'ent', 'con', 'v_sel', 'n_hog', 'n_ren', 'sex', 'eda','cs_p13_1','n_hij', 'e_con', 'clase1', 'clase2', 'clase3', 'd_ant_lab','dur_des', 'ID']]\n",
    "df2019_4_f = df2019_4_f[['cd_a', 'ent', 'con', 'v_sel', 'n_hog', 'n_ren', 'sex', 'eda','cs_p13_1','n_hij', 'e_con', 'clase1', 'clase2', 'clase3', 'd_ant_lab','dur_des', 'ID']]\n",
    "df2020_1_f = df2020_1_f[['cd_a', 'ent', 'con', 'v_sel', 'n_hog', 'n_ren', 'sex', 'eda','cs_p13_1','n_hij', 'e_con', 'clase1', 'clase2', 'clase3', 'd_ant_lab','dur_des', 'ID']]"
   ]
  },
  {
   "cell_type": "code",
   "execution_count": 4,
   "id": "25a3cdd0",
   "metadata": {},
   "outputs": [],
   "source": [
    "# obtenemos poblaciones de interés\n",
    "pea_2019_1 = (df2019_1_f['clase1']==1)\n",
    "pea_2019_2 = (df2019_2_f['clase1']==1)\n",
    "pea_2019_3 = (df2019_3_f['clase1']==1)\n",
    "pea_2019_4 = (df2019_4_f['clase1']==1)\n",
    "pea_2020_1 = (df2020_1_f['clase1']==1)\n",
    "\n",
    "pnea_2019_1 = (df2019_1_f['clase1']==2)\n",
    "pnea_2019_2 = (df2019_2_f['clase1']==2)\n",
    "pnea_2019_3 = (df2019_3_f['clase1']==2)\n",
    "pnea_2019_4 = (df2019_4_f['clase1']==2)\n",
    "pnea_2020_1 = (df2020_1_f['clase1']==2)\n",
    "\n",
    "ocupados_2019_1 = ((df2019_1_f['clase1']==1) & (df2019_1_f['clase2']==1))\n",
    "ocupados_2019_2 = ((df2019_2_f['clase1']==1) & (df2019_2_f['clase2']==1))\n",
    "ocupados_2019_3 = ((df2019_3_f['clase1']==1) & (df2019_3_f['clase2']==1))\n",
    "ocupados_2019_4 = ((df2019_4_f['clase1']==1) & (df2019_4_f['clase2']==1))\n",
    "ocupados_2020_1 = ((df2020_1_f['clase1']==1) & (df2020_1_f['clase2']==1))\n",
    "\n",
    "desocupados_2019_1 = ((df2019_1_f['clase1']==1) & (df2019_1_f['clase2']==2))\n",
    "desocupados_2019_2 = ((df2019_2_f['clase1']==1) & (df2019_2_f['clase2']==2))\n",
    "desocupados_2019_3 = ((df2019_3_f['clase1']==1) & (df2019_3_f['clase2']==2))\n",
    "desocupados_2019_4 = ((df2019_4_f['clase1']==1) & (df2019_4_f['clase2']==2))\n",
    "desocupados_2020_1 = ((df2020_1_f['clase1']==1) & (df2020_1_f['clase2']==2))\n",
    "\n",
    "disponibles_2019_1 = ((df2019_1_f['clase1']==1) & (df2019_1_f['clase2']==3))\n",
    "disponibles_2019_2 = ((df2019_2_f['clase1']==1) & (df2019_2_f['clase2']==3))\n",
    "disponibles_2019_3 = ((df2019_3_f['clase1']==1) & (df2019_3_f['clase2']==3))\n",
    "disponibles_2019_4 = ((df2019_4_f['clase1']==1) & (df2019_4_f['clase2']==3))\n",
    "disponibles_2020_1 = ((df2020_1_f['clase1']==1) & (df2020_1_f['clase2']==3))\n",
    "\n",
    "no_disponib_2019_1 = ((df2019_1_f['clase1']==1) & (df2019_1_f['clase2']==4))\n",
    "no_disponib_2019_2 = ((df2019_2_f['clase1']==1) & (df2019_2_f['clase2']==4))\n",
    "no_disponib_2019_3 = ((df2019_3_f['clase1']==1) & (df2019_3_f['clase2']==4))\n",
    "no_disponib_2019_4 = ((df2019_4_f['clase1']==1) & (df2019_4_f['clase2']==4))\n",
    "no_disponib_2020_1 = ((df2020_1_f['clase1']==1) & (df2020_1_f['clase2']==4))\n",
    "\n",
    "# columna que indica individuos en desempleo abierto\n",
    "desempleados_2019_1 = ((df2019_1_f['clase1']==1) & (df2019_1_f['clase2']==2)) & ((df2019_1_f['clase3']==5) | (df2019_1_f['clase3']==6))  & (df2019_1_f['dur_des']  != 6)\n",
    "desempleados_2019_2 = ((df2019_2_f['clase1']==1) & (df2019_2_f['clase2']==2)) & ((df2019_2_f['clase3']==5) | (df2019_2_f['clase3']==6))  & (df2019_2_f['dur_des']  != 6)\n",
    "desempleados_2019_3 = ((df2019_3_f['clase1']==1) & (df2019_3_f['clase2']==2)) & ((df2019_3_f['clase3']==5) | (df2019_3_f['clase3']==6))  & (df2019_3_f['dur_des']  != 6)\n",
    "desempleados_2019_4 = ((df2019_4_f['clase1']==1) & (df2019_4_f['clase2']==2)) & ((df2019_4_f['clase3']==5) | (df2019_4_f['clase3']==6))  & (df2019_4_f['dur_des']  != 6)\n",
    "desempleados_2020_1 = ((df2020_1_f['clase1']==1) & (df2020_1_f['clase2']==2)) & ((df2020_1_f['clase3']==5) | (df2020_1_f['clase3']==6))  & (df2020_1_f['dur_des']  != 6)"
   ]
  },
  {
   "cell_type": "code",
   "execution_count": 5,
   "id": "409e6d7a",
   "metadata": {},
   "outputs": [],
   "source": [
    "df_dese_2019_i   = df2019_1_f[desempleados_2019_1]\n",
    "df_dese_2019_ii  = df2019_2_f[desempleados_2019_2]\n",
    "df_dese_2019_iii = df2019_3_f[desempleados_2019_3]\n",
    "df_dese_2019_iv  = df2019_4_f[desempleados_2019_4]\n",
    "df_dese_2020_i   = df2020_1_f[desempleados_2020_1]\n",
    "\n",
    "df_ocup_2019_i   = df2019_1_f[ocupados_2019_1]\n",
    "df_ocup_2019_ii  = df2019_2_f[ocupados_2019_2]\n",
    "df_ocup_2019_iii = df2019_3_f[ocupados_2019_3]\n",
    "df_ocup_2019_iv  = df2019_4_f[ocupados_2019_4]\n",
    "df_ocup_2020_i   = df2020_1_f[ocupados_2020_1]"
   ]
  },
  {
   "cell_type": "code",
   "execution_count": 6,
   "id": "93d2f518",
   "metadata": {},
   "outputs": [
    {
     "data": {
      "text/plain": [
       "(True, True, True, True, True)"
      ]
     },
     "execution_count": 6,
     "metadata": {},
     "output_type": "execute_result"
    }
   ],
   "source": [
    "(ocupados_2019_1.sum() + desocupados_2019_1.sum() == pea_2019_1.sum()), ocupados_2019_2.sum() + desocupados_2019_2.sum() == pea_2019_2.sum(),ocupados_2019_3.sum() + desocupados_2019_3.sum() == pea_2019_3.sum(),ocupados_2019_1.sum() + desocupados_2019_1.sum() == pea_2019_1.sum(),ocupados_2020_1.sum() + desocupados_2020_1.sum() == pea_2020_1.sum()"
   ]
  },
  {
   "cell_type": "code",
   "execution_count": 7,
   "id": "4f3aef53",
   "metadata": {},
   "outputs": [],
   "source": [
    "# revisa que personas estaban en desempleo y consiguieron ser empleados\n",
    "chidos_2019_i_a_2019_ii   = df_dese_2019_i[['ID']].isin(df_ocup_2019_ii['ID'].values)\n",
    "chidos_2019_ii_a_2019_iii = df_dese_2019_ii[['ID']].isin(df_ocup_2019_iii['ID'].values)\n",
    "chidos_2019_iii_a_2019_iv = df_dese_2019_iii[['ID']].isin(df_ocup_2019_iv['ID'].values)\n",
    "chidos_2019_iv_a_2020_i   = df_dese_2019_iv[['ID']].isin(df_ocup_2020_i['ID'].values)"
   ]
  },
  {
   "cell_type": "code",
   "execution_count": 8,
   "id": "c2859d00",
   "metadata": {},
   "outputs": [],
   "source": [
    "# quienes siguen buscando empleo en el sig. periodo\n",
    "siguen_2019_i_a_2019_ii  = df_dese_2019_i[['ID']].isin(df_dese_2019_ii['ID'].values)\n",
    "siguen_2019_i_a_2019_iii = df_dese_2019_i[['ID']].isin(df_dese_2019_iii['ID'].values)\n",
    "siguen_2019_i_a_2019_iv  = df_dese_2019_i[['ID']].isin(df_dese_2019_iv['ID'].values)\n",
    "siguen_2019_i_a_2020_i   = df_dese_2019_i[['ID']].isin(df_dese_2020_i['ID'].values)\n",
    "\n",
    "siguen_2019_ii_a_2019_iii = df_dese_2019_ii[['ID']].isin(df_dese_2019_iii['ID'].values)\n",
    "siguen_2019_ii_a_2019_iv  = df_dese_2019_ii[['ID']].isin(df_dese_2019_iv['ID'].values)\n",
    "siguen_2019_ii_a_2020_i   = df_dese_2019_ii[['ID']].isin(df_dese_2020_i['ID'].values)\n",
    "\n",
    "siguen_2019_iii_a_2019_iv = df_dese_2019_iii[['ID']].isin(df_dese_2019_iv['ID'].values)\n",
    "siguen_2019_iii_a_2020_i  = df_dese_2019_iii[['ID']].isin(df_dese_2020_i['ID'].values)\n",
    "\n",
    "siguen_2019_iv_a_2020_i   = df_dese_2019_iv[['ID']].isin(df_dese_2020_i['ID'].values)"
   ]
  },
  {
   "cell_type": "code",
   "execution_count": 9,
   "id": "79ff7410",
   "metadata": {},
   "outputs": [
    {
     "data": {
      "text/plain": [
       "(ID    725\n",
       " dtype: int64,\n",
       " ID    450\n",
       " dtype: int64,\n",
       " ID    235\n",
       " dtype: int64,\n",
       " ID    235\n",
       " dtype: int64)"
      ]
     },
     "execution_count": 9,
     "metadata": {},
     "output_type": "execute_result"
    }
   ],
   "source": [
    "siguen_2019_i_a_2019_ii.sum(),   siguen_2019_i_a_2019_iii.sum(),   siguen_2019_i_a_2019_iv.sum(),  siguen_2019_i_a_2020_i.sum()"
   ]
  },
  {
   "cell_type": "code",
   "execution_count": 10,
   "id": "64ed8a28",
   "metadata": {},
   "outputs": [],
   "source": [
    "# dejan de observarse en el sig periodo\n",
    "dejado_2019_i_a_2019_ii   = (~chidos_2019_i_a_2019_ii)&(~siguen_2019_i_a_2019_ii) \n",
    "dejado_2019_ii_a_2019_iii = (~chidos_2019_ii_a_2019_iii)&(~siguen_2019_ii_a_2019_iii) \n",
    "dejado_2019_iii_a_2019_iv = (~chidos_2019_iii_a_2019_iv)&(~siguen_2019_iii_a_2019_iv) \n",
    "dejado_2019_iv_a_2020_i   = (~chidos_2019_iv_a_2020_i)&(~siguen_2019_iv_a_2020_i) "
   ]
  },
  {
   "cell_type": "code",
   "execution_count": 11,
   "id": "f70a651e",
   "metadata": {},
   "outputs": [],
   "source": [
    "chidos_19i_a_19ii   = df_dese_2019_i[chidos_2019_i_a_2019_ii.to_numpy().flatten()]\n",
    "chidos_19ii_a_19iii = df_dese_2019_ii[chidos_2019_ii_a_2019_iii.to_numpy().flatten()]\n",
    "chidos_19iii_a_19iv = df_dese_2019_iii[chidos_2019_iii_a_2019_iv.to_numpy().flatten()]\n",
    "chidos_19iv_a_20i   = df_dese_2019_iv[chidos_2019_iv_a_2020_i.to_numpy().flatten()]"
   ]
  },
  {
   "cell_type": "code",
   "execution_count": 12,
   "id": "f52df0b7",
   "metadata": {},
   "outputs": [],
   "source": [
    "# siguen desempleados desde el primer periodo hasta 2020:i,  etc\n",
    "des_19i_a_20_i   = df_dese_2019_i[siguen_2019_i_a_2020_i.to_numpy().flatten()]\n",
    "des_19ii_a_20_i  = df_dese_2019_ii[siguen_2019_ii_a_2020_i.to_numpy().flatten()]\n",
    "des_19iii_a_20_i = df_dese_2019_iii[siguen_2019_iii_a_2020_i.to_numpy().flatten()]\n",
    "des_19iv_a_20_i  = df_dese_2019_iv[siguen_2019_iv_a_2020_i.to_numpy().flatten()]"
   ]
  },
  {
   "cell_type": "code",
   "execution_count": 13,
   "id": "f7f7b02a",
   "metadata": {},
   "outputs": [],
   "source": [
    "# juntamos datos\n",
    "df_CHIDOS_ = pd.concat([chidos_19i_a_19ii, chidos_19ii_a_19iii, chidos_19iii_a_19iv, chidos_19iv_a_20i])\n",
    "# agrega columna indicadora\n",
    "df_CHIDOS_ = df_CHIDOS_.reset_index().join( pd.DataFrame(np.ones(df_CHIDOS_.shape[0]), columns=['Delta']) )\n",
    "df_DESE_   = df2020_1_f[desempleados_2020_1]\n",
    "# agrega columna indicadora de que estos individuos no experimentaron entrar en ocupación despues de estár desoscupados\n",
    "df_DESE_ = df_DESE_.reset_index().join( pd.DataFrame(np.zeros(df_DESE_.shape[0]), columns=['Delta']) )"
   ]
  },
  {
   "cell_type": "code",
   "execution_count": 14,
   "id": "ac3702d1",
   "metadata": {},
   "outputs": [],
   "source": [
    "# guarda datos de población de interés en un solo DF\n",
    "df_FINAL_v1 = pd.concat([df_CHIDOS_[['cd_a', 'ent', 'sex', 'eda', 'cs_p13_1', 'n_hij', 'e_con', 'd_ant_lab', 'dur_des','Delta']],\n",
    "                         df_DESE_[['cd_a', 'ent', 'sex', 'eda', 'cs_p13_1', 'n_hij', 'e_con', 'd_ant_lab', 'dur_des','Delta']]], ignore_index=True)"
   ]
  },
  {
   "cell_type": "code",
   "execution_count": 15,
   "id": "f6168aab",
   "metadata": {},
   "outputs": [],
   "source": [
    "# definimos variables al aplicar las funciones definidas al inicio\n",
    "df_FINAL_v1['inferior'] = df_FINAL_v1.apply(inferior, axis=1)\n",
    "df_FINAL_v1['superior'] = df_FINAL_v1.apply(superior, axis=1)\n",
    "df_FINAL_v1['imp_med']  = df_FINAL_v1.apply(imp_med, axis=1)\n",
    "df_FINAL_v1['region']   = df_FINAL_v1.apply(macro_region, axis=1)\n",
    "df_FINAL_v1['region_o'] = df_FINAL_v1['region'].astype(object)  \n",
    "df_FINAL_v1['chamacos'] = df_FINAL_v1.apply(chamacos, axis=1)\n",
    "\n",
    "df_FINAL_v1['genero']   = df_FINAL_v1.apply(genero, axis=1)\n",
    "df_FINAL_v1['niv_ed']   = df_FINAL_v1.apply(niv_ed, axis=1)\n",
    "df_FINAL_v1['ant_lab']  = df_FINAL_v1.apply(ant_lab, axis=1)\n",
    "df_FINAL_v1['eda']      = df_FINAL_v1[['eda']].astype(int)\n",
    "df_FINAL_v1['Etapa']    = df_FINAL_v1.apply(etapa_vida, axis=1)"
   ]
  },
  {
   "cell_type": "code",
   "execution_count": 16,
   "id": "7b040c5f",
   "metadata": {},
   "outputs": [
    {
     "data": {
      "text/plain": [
       "niv_ed    180\n",
       "dtype: int64"
      ]
     },
     "execution_count": 16,
     "metadata": {},
     "output_type": "execute_result"
    }
   ],
   "source": [
    "# personas que no espeficiaron nivel de educación, puede sesgar inferencias si se utiliza niv de educ\n",
    "(df_FINAL_v1[['niv_ed']] == 100).sum()"
   ]
  },
  {
   "cell_type": "code",
   "execution_count": 17,
   "id": "b38e4453",
   "metadata": {},
   "outputs": [],
   "source": [
    "# eliminamos personas que no espeficiaron nivel de educación\n",
    "df_FINAL_v1 = df_FINAL_v1[(df_FINAL_v1['niv_ed'] != 100).to_numpy()]"
   ]
  },
  {
   "cell_type": "code",
   "execution_count": 18,
   "id": "62fbd340",
   "metadata": {},
   "outputs": [
    {
     "data": {
      "text/plain": [
       "5183"
      ]
     },
     "execution_count": 18,
     "metadata": {},
     "output_type": "execute_result"
    }
   ],
   "source": [
    "(df_FINAL_v1['n_hij'] != ' ').sum()"
   ]
  },
  {
   "cell_type": "code",
   "execution_count": 19,
   "id": "b01790e3",
   "metadata": {},
   "outputs": [
    {
     "data": {
      "text/plain": [
       "0"
      ]
     },
     "execution_count": 19,
     "metadata": {},
     "output_type": "execute_result"
    }
   ],
   "source": [
    "# número de diferencia de observaciones al eliminar personas que no espeficiaron nivel de educación\n",
    "df_FINAL_v1.shape[0] - df_FINAL_v1.shape[0]"
   ]
  },
  {
   "cell_type": "code",
   "execution_count": 20,
   "id": "d7d8b82f",
   "metadata": {},
   "outputs": [],
   "source": [
    "df_FINAL_v1_chamacos = df_FINAL_v1[df_FINAL_v1['chamacos'] !=  -1]"
   ]
  },
  {
   "cell_type": "code",
   "execution_count": 21,
   "id": "6b46271c",
   "metadata": {
    "scrolled": false
   },
   "outputs": [
    {
     "data": {
      "text/plain": [
       "(0, 0, 0, 0, 0, 0)"
      ]
     },
     "execution_count": 21,
     "metadata": {},
     "output_type": "execute_result"
    }
   ],
   "source": [
    "# deben de ser (0, 0, 0, 0, 0, 0) o falta hacer algo\n",
    "(df_FINAL_v1[['region']] == -1).sum()[0], (df_FINAL_v1[['ant_lab']] == -1).sum()[0], (df_FINAL_v1[['ant_lab']] == -1).sum()[0],  (df_FINAL_v1[['inferior']] == -1).sum()[0],  (df_FINAL_v1[['superior']] == -1).sum()[0], (df_FINAL_v1[['niv_ed']] == 100).sum()[0]"
   ]
  },
  {
   "cell_type": "code",
   "execution_count": 22,
   "id": "2d852f8d",
   "metadata": {},
   "outputs": [
    {
     "data": {
      "text/plain": [
       "(0, 0)"
      ]
     },
     "execution_count": 22,
     "metadata": {},
     "output_type": "execute_result"
    }
   ],
   "source": [
    "# deben de ser (0, 0) o falta hacer algo\n",
    "(df_FINAL_v1[['eda']] < 12).sum()[0], (df_FINAL_v1[['eda']] > 98).sum()[0]"
   ]
  },
  {
   "cell_type": "code",
   "execution_count": 24,
   "id": "e153249b",
   "metadata": {
    "scrolled": true
   },
   "outputs": [],
   "source": [
    "df_FINAL_todo     = (df_FINAL_v1[['dur_des', 'imp_med', 'inferior', 'superior', 'Delta', 'cd_a', 'ent', 'region', 'genero', 'eda', 'niv_ed', 'chamacos', 'ant_lab', 'Etapa']].reset_index())[['dur_des','imp_med', 'inferior', 'superior', 'Delta', 'cd_a', 'ent', 'region', 'genero', 'eda', 'niv_ed', 'chamacos', 'ant_lab', 'Etapa']]\n",
    "df_FINAL_chamacos = (df_FINAL_v1_chamacos[['dur_des','imp_med', 'inferior', 'superior', 'Delta', 'cd_a', 'ent', 'region', 'genero', 'eda', 'niv_ed', 'chamacos', 'ant_lab', 'Etapa']].reset_index())[['dur_des','imp_med', 'inferior', 'superior', 'Delta', 'cd_a', 'ent', 'region', 'genero', 'eda', 'niv_ed', 'chamacos', 'ant_lab', 'Etapa']]"
   ]
  },
  {
   "cell_type": "code",
   "execution_count": 26,
   "id": "dd180d3f",
   "metadata": {},
   "outputs": [
    {
     "data": {
      "text/plain": [
       "5183"
      ]
     },
     "execution_count": 26,
     "metadata": {},
     "output_type": "execute_result"
    }
   ],
   "source": [
    "df_FINAL_chamacos.genero.values.sum()"
   ]
  },
  {
   "cell_type": "code",
   "execution_count": 27,
   "id": "f51ea86c",
   "metadata": {
    "scrolled": false
   },
   "outputs": [
    {
     "data": {
      "text/plain": [
       "cd_a           int64\n",
       "ent            int64\n",
       "sex           object\n",
       "eda            int32\n",
       "cs_p13_1      object\n",
       "n_hij         object\n",
       "e_con         object\n",
       "d_ant_lab      int64\n",
       "dur_des        int64\n",
       "Delta        float64\n",
       "inferior       int64\n",
       "superior       int64\n",
       "imp_med      float64\n",
       "region         int64\n",
       "region_o      object\n",
       "chamacos       int64\n",
       "genero         int64\n",
       "niv_ed         int64\n",
       "ant_lab        int64\n",
       "Etapa          int64\n",
       "dtype: object"
      ]
     },
     "execution_count": 27,
     "metadata": {},
     "output_type": "execute_result"
    }
   ],
   "source": [
    "# imprime tipo de datos en la base\n",
    "df_FINAL_v1.dtypes"
   ]
  },
  {
   "cell_type": "code",
   "execution_count": 28,
   "id": "be124cff",
   "metadata": {
    "scrolled": false
   },
   "outputs": [
    {
     "data": {
      "text/plain": [
       "cd_a         0\n",
       "ent          0\n",
       "sex          0\n",
       "eda          0\n",
       "cs_p13_1     0\n",
       "n_hij        0\n",
       "e_con        0\n",
       "d_ant_lab    0\n",
       "dur_des      0\n",
       "Delta        0\n",
       "inferior     0\n",
       "superior     0\n",
       "imp_med      0\n",
       "region       0\n",
       "region_o     0\n",
       "chamacos     0\n",
       "genero       0\n",
       "niv_ed       0\n",
       "ant_lab      0\n",
       "Etapa        0\n",
       "dtype: int64"
      ]
     },
     "execution_count": 28,
     "metadata": {},
     "output_type": "execute_result"
    }
   ],
   "source": [
    "df_FINAL_v1.isna().sum()"
   ]
  },
  {
   "cell_type": "code",
   "execution_count": 30,
   "id": "97f3f20d",
   "metadata": {},
   "outputs": [],
   "source": [
    "# guarda base de dato  en .xlsx\n",
    "df_FINAL_todo.to_excel(r'C:\\Users\\luis9\\OneDrive\\CIMAT PPE\\Semestres\\S04\\Tesis\\output.xlsx')\n",
    "df_FINAL_chamacos.to_excel(r'C:\\Users\\luis9\\OneDrive\\CIMAT PPE\\Semestres\\S04\\Tesis\\output_chamacos.xlsx')"
   ]
  }
 ],
 "metadata": {
  "kernelspec": {
   "display_name": "Python 3 (ipykernel)",
   "language": "python",
   "name": "python3"
  },
  "language_info": {
   "codemirror_mode": {
    "name": "ipython",
    "version": 3
   },
   "file_extension": ".py",
   "mimetype": "text/x-python",
   "name": "python",
   "nbconvert_exporter": "python",
   "pygments_lexer": "ipython3",
   "version": "3.9.7"
  }
 },
 "nbformat": 4,
 "nbformat_minor": 5
}
