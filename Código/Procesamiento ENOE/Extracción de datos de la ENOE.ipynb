{
 "cells": [
  {
   "cell_type": "code",
   "execution_count": 1,
   "id": "866c9f44",
   "metadata": {},
   "outputs": [],
   "source": [
    "import numpy as np\n",
    "import pandas as pd\n",
    "from processing_enoe_frailty import *"
   ]
  },
  {
   "cell_type": "markdown",
   "id": "c530daf3",
   "metadata": {},
   "source": [
    "# 0. Data Modelling\n",
    "\n",
    "## 0.1 Data modeling process by IBM\n",
    "\n",
    "As a discipline, data modeling invites stakeholders to evaluate data processing and storage in painstaking detail.\n",
    "\n",
    "Those workflows generally look like this:\n",
    "\n",
    "0. **Understand Requirements.** Start by thoroughly understanding the requirements of the system or application you are designing. Engage with stakeholders, including end-users, to gather and document their needs and expectations.\n",
    "\n",
    "1. **Identify the entities.** The process of data modeling begins with the identification of the things, events or concepts that are represented in the data set that is to be modeled. Each entity should be cohesive and logically discrete from all others.\n",
    "\n",
    "2. **Define the key properties or attributes of each entity.** Each entity type can be differentiated from all others because it has one or more unique properties, called attributes. For instance, an entity called “customer” might possess such attributes as a first name, last name, telephone number and salutation, while an entity called “address” might include a street name and number, a city, state, country and zip code.\n",
    "    \n",
    "3. **Establish relationships among entities.** The earliest draft of a data model will specify the nature of the relationships each entity has with the others. In the above example, each customer “lives at” an address. If that model were expanded to include an entity called “orders,” each order would be shipped to and billed to an address as well.** These relationships are usually documented via unified modeling language (UML).\n",
    "    \n",
    "4. **Map attributes to entities completely.** This will ensure the model reflects how the business will use the data. Several formal data modeling patterns are in widespread use. Object-oriented developers often apply analysis patterns or design patterns, while stakeholders from other business domains may turn to other patterns.\n",
    "\n",
    "5. **Choose Appropriate Data Types.** Select appropriate data types for each attribute based on the nature of the data. Consider factors such as data size, precision, and the range of values. Common data types include integers, strings, dates, and decimals.\n",
    "\n",
    "6. **Assign keys as needed, and decide on a degree of normalization that balances the need to reduce redundancy with performance requirements.** Normalization is a technique for organizing data models (and the databases they represent) in which numerical identifiers, called keys, are assigned to groups of data to represent relationships between them without repeating the data. For instance, if customers are each assigned a key, that key can be linked to both their address and their order history without having to repeat this information in the table of customer names. Normalization tends to reduce the amount of storage space a database will require, but it can at cost to query performance.\n",
    "\n",
    "7. **Consider Performance.** Factor in performance considerations during the design phase. Evaluate how the data model will perform under different scenarios, and optimize the design accordingly. Indexing, partitioning, and denormalization may be considered for performance optimization.\n",
    "\n",
    "8. **Document the Data Model.** Create comprehensive documentation for the data model. Include entity-relationship diagrams (ERDs), attribute definitions, relationship definitions, and any business rules associated with the data model. Clear documentation is essential for communication and maintenance.\n",
    "\n",
    "9. **Finalize and validate the data model.** Data modeling is an iterative process that should be repeated and refined as business needs change. Collaborate closely with stakeholders, including database administrators, developers, and business analysts. Ensure that the data model aligns with both technical and business requirements.\n",
    "\n",
    "10. **Tool Selection** Choose appropriate tools for creating and managing your data model. There are various database design tools available that can help you create visual representations of your data model and generate SQL scripts for database creation.\n",
    "\n",
    "\n",
    "## 0.2 Applied Data modeling process by IBM"
   ]
  },
  {
   "cell_type": "markdown",
   "id": "d347d840",
   "metadata": {},
   "source": [
    "### 0.2.0 Requirements\n",
    "Due to the nature of the model and objectives of research, we start by enunciating what we need:\n",
    "\n",
    "We need a table with the data with the mexican unemployed population in the ENOE (thanks INEGI!) where each row is an individual who is unemployed and gets a job or keeps searching for a job at the end of the survey that follows that individual. It was determined that the period of interest would be 2019:i-2020:i as it was the latest survey to be completed at the time of estabilishing the research objectives. The characteristics of interest are: a time to employment (time to failure) which happens to interval censored so in reality is two times of observation in betweeen the failure happens, an indicator for right-censoring, the age of the individual at the start of the survey, the education level of the individual at the start of the survey, the gender of the individual, an indicator for work experience, an indicator for the position in the household, the number of children in the household, and an indicator for the state in which the individual resides.\n",
    "\n",
    "### 0.2.1 Entities\n",
    "The entities are: unemployed mexicans in the mexican labor market. \n",
    "\n",
    "### 0.2.2 Attributes\n",
    "The attributes are: left time, right time, indicator right-censored, age, education level, gender, indicator work experience, household position, number of children, state.\n",
    "\n",
    "### 0.2.3 Relationships \n",
    "Only one table and due to objectives, no relationships in a data modelling sense, where identified. \n",
    "\n",
    "### 0.2.4 Attribute Mapping\n",
    "We will use the attributes in a statistical model, for research purposes. \n",
    "\n",
    "### 0.2.5 Data Types\n",
    "Appropiate data types:\n",
    " - Time to employment, both numerical. Int could be preferred for storage or scalability, if it were a concern.\n",
    " - Indicator right-censored, integer. \n",
    " - Age, integer.\n",
    " - Education level, integer.\n",
    " - Gender, integer.\n",
    " - Work experience, integer.\n",
    " - Hosehold position, integer. \n",
    " - Number of children, integer.\n",
    " - State indicator, integer.\n",
    "\n",
    "### 0.2.7 Keys\n",
    "!!! Keys will be created from source data.\n",
    "\n",
    "### 0.2.8 Data Model\n",
    "!!!\n",
    "\n",
    "** We assume that:\n",
    "- If an unemployed individual is included in the next period as employed, it means that he found employment by the start of that period where he found employment.\n",
    "- Simplest time to failure (1 permanent state) model.\n",
    "- Complete Case Analysis approach to missing data: This is the simplest approach where only individuals with complete information on the outcome variable are included in the analysis. However, this approach can lead to biased results if the missing data is not completely at random.\n",
    "### 0.2.10 Tools\n",
    "Python and Github."
   ]
  },
  {
   "cell_type": "code",
   "execution_count": 2,
   "id": "f418d3a9",
   "metadata": {},
   "outputs": [],
   "source": [
    "# carga csv\n",
    "df_2019_1 = pd.read_csv(r'C:\\Users\\luis9\\OneDrive\\CIMAT PPE\\Semestres\\S04\\Tesis\\!data\\2019trim1_csv/sdemt119.csv', low_memory=False)\n",
    "df_2019_2 = pd.read_csv(r'C:\\Users\\luis9\\OneDrive\\CIMAT PPE\\Semestres\\S04\\Tesis\\!data\\2019trim2_csv/sdemt219.csv', low_memory=False)\n",
    "df_2019_3 = pd.read_csv(r'C:\\Users\\luis9\\OneDrive\\CIMAT PPE\\Semestres\\S04\\Tesis\\!data\\2019trim3_csv/sdemt319.csv', low_memory=False)\n",
    "df_2019_4 = pd.read_csv(r'C:\\Users\\luis9\\OneDrive\\CIMAT PPE\\Semestres\\S04\\Tesis\\!data\\2019trim4_csv/sdemt419.csv', low_memory=False)\n",
    "df_2020_1 = pd.read_csv(r'C:\\Users\\luis9\\OneDrive\\CIMAT PPE\\Semestres\\S04\\Tesis\\!data\\2019trim4_csv/sdemt419.csv', low_memory=False)"
   ]
  },
  {
   "cell_type": "code",
   "execution_count": 3,
   "id": "338496c7",
   "metadata": {},
   "outputs": [],
   "source": [
    "df_dict = {\n",
    "    'df_1' : df_2019_1,\n",
    "    'df_2' : df_2019_2,\n",
    "    'df_3' : df_2019_3,\n",
    "    'df_4' : df_2019_4,\n",
    "    'df_5' : df_2020_1\n",
    "}\n",
    "\n",
    "columns_interest_enoe = [\n",
    "    'cd_a','ent', 'con', 'v_sel',\n",
    "    'n_hog', 'n_ren', 'sex', 'eda',\n",
    "    'cs_p13_1','n_hij', 'e_con', \n",
    "    'clase1', 'clase2', 'clase3',\n",
    "    'd_ant_lab', 'dur_des'\n",
    "]\n",
    "\n",
    "n_og_df = len(df_dict.keys())\n",
    "for df, name in zip(\n",
    "    df_dict.values(), df_dict.keys()\n",
    "    ):\n",
    "    #  data with complete surveys,\n",
    "    #  columns of interest\n",
    "    df_dict[name] = ((\n",
    "        df_dict[name])[df_dict[name].r_def == 0])[\n",
    "            columns_interest_enoe].sort_values([\n",
    "                'cd_a', 'ent', 'con', 'v_sel',\n",
    "                'n_hog', 'n_ren']\n",
    "                ).reset_index(drop=True)\n",
    "    #  define unique key for each individual\n",
    "    df_dict[name]['id'] = (df_dict[name].cd_a.astype(str\n",
    "        ) + df_dict[name].ent.astype(str\n",
    "        ) + df_dict[name].con.astype(str\n",
    "        ) + df_dict[name].v_sel.astype(str\n",
    "        ) + df_dict[name].n_hog.astype(str\n",
    "        ) + df_dict[name].n_ren.astype(str)\n",
    "        ).astype(np.int64)\n",
    "    #\n",
    "    (df_dict[name])['ocupado'] = ((df_dict[name].clase1==1) & (df_dict[name].clase2==1))\n",
    "    (df_dict[name])['desocupado'] = ((\n",
    "        (df_dict[name]['clase1']==1) & (df_dict[name]['clase2']==2)\n",
    "        ) & (\n",
    "        (df_dict[name]['clase3']==5) | (df_dict[name]['clase3']==6)\n",
    "        ) & (\n",
    "        df_dict[name]['dur_des'] != 6\n",
    "        ))\n",
    "    (df_dict[name])['de_interes'] = ((\n",
    "        (df_dict[name]).ocupado | (\n",
    "        df_dict[name]).desocupado\n",
    "        ))\n",
    "    \n",
    "    df_dict[name] = (df_dict[name])[df_dict[name].de_interes]"
   ]
  },
  {
   "cell_type": "code",
   "execution_count": 52,
   "id": "ac6b4507",
   "metadata": {},
   "outputs": [
    {
     "name": "stderr",
     "output_type": "stream",
     "text": [
      "C:\\Users\\luis9\\AppData\\Local\\Temp\\ipykernel_13400\\2047493246.py:71: SettingWithCopyWarning: \n",
      "A value is trying to be set on a copy of a slice from a DataFrame.\n",
      "Try using .loc[row_indexer,col_indexer] = value instead\n",
      "\n",
      "See the caveats in the documentation: https://pandas.pydata.org/pandas-docs/stable/user_guide/indexing.html#returning-a-view-versus-a-copy\n",
      "  (df_dict[f'df_desempleados_{j}'])[f'delta_ocupado'] = ((df_dict[\n",
      "C:\\Users\\luis9\\AppData\\Local\\Temp\\ipykernel_13400\\2047493246.py:71: SettingWithCopyWarning: \n",
      "A value is trying to be set on a copy of a slice from a DataFrame.\n",
      "Try using .loc[row_indexer,col_indexer] = value instead\n",
      "\n",
      "See the caveats in the documentation: https://pandas.pydata.org/pandas-docs/stable/user_guide/indexing.html#returning-a-view-versus-a-copy\n",
      "  (df_dict[f'df_desempleados_{j}'])[f'delta_ocupado'] = ((df_dict[\n",
      "C:\\Users\\luis9\\AppData\\Local\\Temp\\ipykernel_13400\\2047493246.py:71: SettingWithCopyWarning: \n",
      "A value is trying to be set on a copy of a slice from a DataFrame.\n",
      "Try using .loc[row_indexer,col_indexer] = value instead\n",
      "\n",
      "See the caveats in the documentation: https://pandas.pydata.org/pandas-docs/stable/user_guide/indexing.html#returning-a-view-versus-a-copy\n",
      "  (df_dict[f'df_desempleados_{j}'])[f'delta_ocupado'] = ((df_dict[\n",
      "C:\\Users\\luis9\\AppData\\Local\\Temp\\ipykernel_13400\\2047493246.py:71: SettingWithCopyWarning: \n",
      "A value is trying to be set on a copy of a slice from a DataFrame.\n",
      "Try using .loc[row_indexer,col_indexer] = value instead\n",
      "\n",
      "See the caveats in the documentation: https://pandas.pydata.org/pandas-docs/stable/user_guide/indexing.html#returning-a-view-versus-a-copy\n",
      "  (df_dict[f'df_desempleados_{j}'])[f'delta_ocupado'] = ((df_dict[\n"
     ]
    }
   ],
   "source": [
    "df_dict = {\n",
    "    'df_1' : df_2019_1,\n",
    "    'df_2' : df_2019_2,\n",
    "    'df_3' : df_2019_3,\n",
    "    'df_4' : df_2019_4,\n",
    "    'df_5' : df_2020_1\n",
    "}\n",
    "\n",
    "columns_interest_enoe = [\n",
    "    'cd_a','ent', 'con', 'v_sel',\n",
    "    'n_hog', 'n_ren', 'sex', 'eda',\n",
    "    'cs_p13_1','n_hij', 'e_con', \n",
    "    'clase1', 'clase2', 'clase3',\n",
    "    'd_ant_lab', 'dur_des'\n",
    "]\n",
    "\n",
    "og_keys = list(df_dict.keys())\n",
    "n_og_df = len(df_dict.keys())\n",
    "\n",
    "for df, name in zip(\n",
    "    df_dict.values(), df_dict.keys()\n",
    "    ):\n",
    "    #  data with complete surveys,\n",
    "    #  columns of interest\n",
    "    df_dict[name] = ((\n",
    "        df_dict[name])[df_dict[name].r_def == 0])[\n",
    "            columns_interest_enoe].sort_values([\n",
    "                'cd_a', 'ent', 'con', 'v_sel',\n",
    "                'n_hog', 'n_ren']\n",
    "                ).reset_index(drop=True)\n",
    "    #  define unique key for each individual\n",
    "    df_dict[name]['id'] = (df_dict[name].cd_a.astype(str\n",
    "        ) + df_dict[name].ent.astype(str\n",
    "        ) + df_dict[name].con.astype(str\n",
    "        ) + df_dict[name].v_sel.astype(str\n",
    "        ) + df_dict[name].n_hog.astype(str\n",
    "        ) + df_dict[name].n_ren.astype(str)\n",
    "        ).astype(np.int64)\n",
    "\n",
    "#  extract auxiliary data frames\n",
    "keys_df_desempleados = []\n",
    "for j in np.arange(n_og_df)+1:\n",
    "    df_name = list(df_dict.keys())[j-1]\n",
    "    df_dict[\n",
    "        f'df_desempleados_{j}'] = (\n",
    "        df_dict[df_name])[\n",
    "        ((\n",
    "        df_dict[df_name]['clase1']==1) & (\n",
    "        df_dict[df_name]['clase2']==2)\n",
    "        ) & ((\n",
    "        df_dict[df_name]['clase3']==5) | (\n",
    "        df_dict[df_name]['clase3']==6)\n",
    "        ) & (\n",
    "        df_dict[df_name]['dur_des']  != 6\n",
    "        )]\n",
    "    \n",
    "    df_dict[\n",
    "        f'df_ocupados_{j}'] = (\n",
    "        df_dict[df_name])[\n",
    "        ((\n",
    "        df_dict[df_name]['clase1']==1) & (\n",
    "        df_dict[df_name]['clase2']==1)\n",
    "        )]\n",
    "    \n",
    "    keys_df_desempleados.append(f'df_desempleados_{j}')\n",
    "\n",
    "#  extract indicator of fail\n",
    "df_names = []\n",
    "for j in np.arange(n_og_df)+1:\n",
    "    if j<n_og_df:\n",
    "        (df_dict[f'df_desempleados_{j}'])[f'delta_ocupado'] = ((df_dict[\n",
    "            f'df_desempleados_{j}'].id.isin(df_dict[f'df_ocupados_{j+1}'].id\n",
    "        ))*1).astype(int)"
   ]
  },
  {
   "cell_type": "code",
   "execution_count": 57,
   "id": "8d8b92e0",
   "metadata": {},
   "outputs": [],
   "source": [
    "for key_desempleado in keys_df_desempleados:\n",
    "    temp_df = df_dict[key_desempleado]\n",
    "    df_names.append(temp_df)\n",
    "\n",
    "df_unemployed = pd.concat(df_names\n",
    "    ).dropna().drop_duplicates(\n",
    "        ['id', 'delta_ocupado'],\n",
    "        keep='first'\n",
    ")\n",
    "\n"
   ]
  },
  {
   "cell_type": "code",
   "execution_count": 58,
   "id": "402fa191",
   "metadata": {},
   "outputs": [
    {
     "data": {
      "text/html": [
       "<div>\n",
       "<style scoped>\n",
       "    .dataframe tbody tr th:only-of-type {\n",
       "        vertical-align: middle;\n",
       "    }\n",
       "\n",
       "    .dataframe tbody tr th {\n",
       "        vertical-align: top;\n",
       "    }\n",
       "\n",
       "    .dataframe thead th {\n",
       "        text-align: right;\n",
       "    }\n",
       "</style>\n",
       "<table border=\"1\" class=\"dataframe\">\n",
       "  <thead>\n",
       "    <tr style=\"text-align: right;\">\n",
       "      <th></th>\n",
       "      <th>cd_a</th>\n",
       "      <th>ent</th>\n",
       "      <th>con</th>\n",
       "      <th>v_sel</th>\n",
       "      <th>n_hog</th>\n",
       "      <th>n_ren</th>\n",
       "      <th>sex</th>\n",
       "      <th>eda</th>\n",
       "      <th>cs_p13_1</th>\n",
       "      <th>n_hij</th>\n",
       "      <th>e_con</th>\n",
       "      <th>clase1</th>\n",
       "      <th>clase2</th>\n",
       "      <th>clase3</th>\n",
       "      <th>d_ant_lab</th>\n",
       "      <th>dur_des</th>\n",
       "      <th>id</th>\n",
       "      <th>delta_ocupado</th>\n",
       "    </tr>\n",
       "  </thead>\n",
       "  <tbody>\n",
       "    <tr>\n",
       "      <th>9</th>\n",
       "      <td>1</td>\n",
       "      <td>9</td>\n",
       "      <td>40001</td>\n",
       "      <td>3</td>\n",
       "      <td>1</td>\n",
       "      <td>1</td>\n",
       "      <td>1</td>\n",
       "      <td>70</td>\n",
       "      <td>7</td>\n",
       "      <td></td>\n",
       "      <td>6</td>\n",
       "      <td>1</td>\n",
       "      <td>2</td>\n",
       "      <td>6</td>\n",
       "      <td>1</td>\n",
       "      <td>2</td>\n",
       "      <td>1940001311</td>\n",
       "      <td>1.0</td>\n",
       "    </tr>\n",
       "    <tr>\n",
       "      <th>15</th>\n",
       "      <td>1</td>\n",
       "      <td>9</td>\n",
       "      <td>40001</td>\n",
       "      <td>5</td>\n",
       "      <td>1</td>\n",
       "      <td>3</td>\n",
       "      <td>2</td>\n",
       "      <td>41</td>\n",
       "      <td>4</td>\n",
       "      <td>2</td>\n",
       "      <td>5</td>\n",
       "      <td>1</td>\n",
       "      <td>2</td>\n",
       "      <td>6</td>\n",
       "      <td>1</td>\n",
       "      <td>1</td>\n",
       "      <td>1940001513</td>\n",
       "      <td>0.0</td>\n",
       "    </tr>\n",
       "    <tr>\n",
       "      <th>63</th>\n",
       "      <td>1</td>\n",
       "      <td>9</td>\n",
       "      <td>40005</td>\n",
       "      <td>2</td>\n",
       "      <td>1</td>\n",
       "      <td>2</td>\n",
       "      <td>2</td>\n",
       "      <td>38</td>\n",
       "      <td>4</td>\n",
       "      <td>2</td>\n",
       "      <td>5</td>\n",
       "      <td>1</td>\n",
       "      <td>2</td>\n",
       "      <td>6</td>\n",
       "      <td>1</td>\n",
       "      <td>2</td>\n",
       "      <td>1940005212</td>\n",
       "      <td>1.0</td>\n",
       "    </tr>\n",
       "    <tr>\n",
       "      <th>261</th>\n",
       "      <td>1</td>\n",
       "      <td>9</td>\n",
       "      <td>40019</td>\n",
       "      <td>5</td>\n",
       "      <td>1</td>\n",
       "      <td>2</td>\n",
       "      <td>2</td>\n",
       "      <td>31</td>\n",
       "      <td>4</td>\n",
       "      <td>1</td>\n",
       "      <td>6</td>\n",
       "      <td>1</td>\n",
       "      <td>2</td>\n",
       "      <td>6</td>\n",
       "      <td>1</td>\n",
       "      <td>4</td>\n",
       "      <td>1940019512</td>\n",
       "      <td>0.0</td>\n",
       "    </tr>\n",
       "    <tr>\n",
       "      <th>325</th>\n",
       "      <td>1</td>\n",
       "      <td>9</td>\n",
       "      <td>40026</td>\n",
       "      <td>1</td>\n",
       "      <td>2</td>\n",
       "      <td>1</td>\n",
       "      <td>1</td>\n",
       "      <td>48</td>\n",
       "      <td>4</td>\n",
       "      <td></td>\n",
       "      <td>5</td>\n",
       "      <td>1</td>\n",
       "      <td>2</td>\n",
       "      <td>6</td>\n",
       "      <td>1</td>\n",
       "      <td>1</td>\n",
       "      <td>1940026121</td>\n",
       "      <td>0.0</td>\n",
       "    </tr>\n",
       "    <tr>\n",
       "      <th>...</th>\n",
       "      <td>...</td>\n",
       "      <td>...</td>\n",
       "      <td>...</td>\n",
       "      <td>...</td>\n",
       "      <td>...</td>\n",
       "      <td>...</td>\n",
       "      <td>...</td>\n",
       "      <td>...</td>\n",
       "      <td>...</td>\n",
       "      <td>...</td>\n",
       "      <td>...</td>\n",
       "      <td>...</td>\n",
       "      <td>...</td>\n",
       "      <td>...</td>\n",
       "      <td>...</td>\n",
       "      <td>...</td>\n",
       "      <td>...</td>\n",
       "      <td>...</td>\n",
       "    </tr>\n",
       "    <tr>\n",
       "      <th>401496</th>\n",
       "      <td>86</td>\n",
       "      <td>32</td>\n",
       "      <td>60024</td>\n",
       "      <td>15</td>\n",
       "      <td>1</td>\n",
       "      <td>2</td>\n",
       "      <td>1</td>\n",
       "      <td>37</td>\n",
       "      <td>2</td>\n",
       "      <td></td>\n",
       "      <td>6</td>\n",
       "      <td>1</td>\n",
       "      <td>2</td>\n",
       "      <td>6</td>\n",
       "      <td>1</td>\n",
       "      <td>1</td>\n",
       "      <td>8632600241512</td>\n",
       "      <td>0.0</td>\n",
       "    </tr>\n",
       "    <tr>\n",
       "      <th>401743</th>\n",
       "      <td>86</td>\n",
       "      <td>32</td>\n",
       "      <td>60028</td>\n",
       "      <td>5</td>\n",
       "      <td>1</td>\n",
       "      <td>3</td>\n",
       "      <td>1</td>\n",
       "      <td>27</td>\n",
       "      <td>2</td>\n",
       "      <td></td>\n",
       "      <td>1</td>\n",
       "      <td>1</td>\n",
       "      <td>2</td>\n",
       "      <td>6</td>\n",
       "      <td>1</td>\n",
       "      <td>1</td>\n",
       "      <td>863260028513</td>\n",
       "      <td>0.0</td>\n",
       "    </tr>\n",
       "    <tr>\n",
       "      <th>402067</th>\n",
       "      <td>86</td>\n",
       "      <td>32</td>\n",
       "      <td>60033</td>\n",
       "      <td>12</td>\n",
       "      <td>1</td>\n",
       "      <td>3</td>\n",
       "      <td>2</td>\n",
       "      <td>21</td>\n",
       "      <td>3</td>\n",
       "      <td>0</td>\n",
       "      <td>6</td>\n",
       "      <td>1</td>\n",
       "      <td>2</td>\n",
       "      <td>6</td>\n",
       "      <td>1</td>\n",
       "      <td>1</td>\n",
       "      <td>8632600331213</td>\n",
       "      <td>0.0</td>\n",
       "    </tr>\n",
       "    <tr>\n",
       "      <th>402068</th>\n",
       "      <td>86</td>\n",
       "      <td>32</td>\n",
       "      <td>60033</td>\n",
       "      <td>12</td>\n",
       "      <td>1</td>\n",
       "      <td>4</td>\n",
       "      <td>2</td>\n",
       "      <td>19</td>\n",
       "      <td>3</td>\n",
       "      <td>0</td>\n",
       "      <td>6</td>\n",
       "      <td>1</td>\n",
       "      <td>2</td>\n",
       "      <td>6</td>\n",
       "      <td>1</td>\n",
       "      <td>1</td>\n",
       "      <td>8632600331214</td>\n",
       "      <td>0.0</td>\n",
       "    </tr>\n",
       "    <tr>\n",
       "      <th>402071</th>\n",
       "      <td>86</td>\n",
       "      <td>32</td>\n",
       "      <td>60033</td>\n",
       "      <td>12</td>\n",
       "      <td>1</td>\n",
       "      <td>7</td>\n",
       "      <td>2</td>\n",
       "      <td>26</td>\n",
       "      <td>3</td>\n",
       "      <td>2</td>\n",
       "      <td>1</td>\n",
       "      <td>1</td>\n",
       "      <td>2</td>\n",
       "      <td>6</td>\n",
       "      <td>1</td>\n",
       "      <td>1</td>\n",
       "      <td>8632600331217</td>\n",
       "      <td>0.0</td>\n",
       "    </tr>\n",
       "  </tbody>\n",
       "</table>\n",
       "<p>22295 rows × 18 columns</p>\n",
       "</div>"
      ],
      "text/plain": [
       "        cd_a  ent    con  v_sel  n_hog  n_ren sex eda cs_p13_1 n_hij e_con  \\\n",
       "9          1    9  40001      3      1      1   1  70        7           6   \n",
       "15         1    9  40001      5      1      3   2  41        4     2     5   \n",
       "63         1    9  40005      2      1      2   2  38        4     2     5   \n",
       "261        1    9  40019      5      1      2   2  31        4     1     6   \n",
       "325        1    9  40026      1      2      1   1  48        4           5   \n",
       "...      ...  ...    ...    ...    ...    ...  ..  ..      ...   ...   ...   \n",
       "401496    86   32  60024     15      1      2   1  37        2           6   \n",
       "401743    86   32  60028      5      1      3   1  27        2           1   \n",
       "402067    86   32  60033     12      1      3   2  21        3     0     6   \n",
       "402068    86   32  60033     12      1      4   2  19        3     0     6   \n",
       "402071    86   32  60033     12      1      7   2  26        3     2     1   \n",
       "\n",
       "        clase1  clase2  clase3  d_ant_lab  dur_des             id  \\\n",
       "9            1       2       6          1        2     1940001311   \n",
       "15           1       2       6          1        1     1940001513   \n",
       "63           1       2       6          1        2     1940005212   \n",
       "261          1       2       6          1        4     1940019512   \n",
       "325          1       2       6          1        1     1940026121   \n",
       "...        ...     ...     ...        ...      ...            ...   \n",
       "401496       1       2       6          1        1  8632600241512   \n",
       "401743       1       2       6          1        1   863260028513   \n",
       "402067       1       2       6          1        1  8632600331213   \n",
       "402068       1       2       6          1        1  8632600331214   \n",
       "402071       1       2       6          1        1  8632600331217   \n",
       "\n",
       "        delta_ocupado  \n",
       "9                 1.0  \n",
       "15                0.0  \n",
       "63                1.0  \n",
       "261               0.0  \n",
       "325               0.0  \n",
       "...               ...  \n",
       "401496            0.0  \n",
       "401743            0.0  \n",
       "402067            0.0  \n",
       "402068            0.0  \n",
       "402071            0.0  \n",
       "\n",
       "[22295 rows x 18 columns]"
      ]
     },
     "execution_count": 58,
     "metadata": {},
     "output_type": "execute_result"
    }
   ],
   "source": [
    "df_unemployed"
   ]
  },
  {
   "cell_type": "code",
   "execution_count": null,
   "id": "db11a5b4",
   "metadata": {},
   "outputs": [],
   "source": [
    "df_unemployed"
   ]
  },
  {
   "cell_type": "code",
   "execution_count": null,
   "id": "a24ccc46",
   "metadata": {},
   "outputs": [],
   "source": []
  },
  {
   "cell_type": "code",
   "execution_count": null,
   "id": "adcae7f2",
   "metadata": {},
   "outputs": [],
   "source": []
  },
  {
   "cell_type": "code",
   "execution_count": null,
   "id": "cfb927f1",
   "metadata": {},
   "outputs": [],
   "source": []
  },
  {
   "cell_type": "code",
   "execution_count": null,
   "id": "6a3dbdc3",
   "metadata": {},
   "outputs": [],
   "source": []
  },
  {
   "cell_type": "code",
   "execution_count": 11,
   "id": "a689b2e1",
   "metadata": {},
   "outputs": [
    {
     "data": {
      "text/plain": [
       "dict_keys(['df_1', 'df_2', 'df_3', 'df_4', 'df_5', 'df_desempleados_1', 'df_ocupados_1', 'df_desempleados_2', 'df_ocupados_2', 'df_desempleados_3', 'df_ocupados_3', 'df_desempleados_4', 'df_ocupados_4', 'df_desempleados_5', 'df_ocupados_5'])"
      ]
     },
     "execution_count": 11,
     "metadata": {},
     "output_type": "execute_result"
    }
   ],
   "source": [
    "df_dict.keys()"
   ]
  },
  {
   "cell_type": "code",
   "execution_count": null,
   "id": "1a4afc3d",
   "metadata": {},
   "outputs": [],
   "source": []
  },
  {
   "cell_type": "code",
   "execution_count": null,
   "id": "24459e93",
   "metadata": {},
   "outputs": [],
   "source": []
  },
  {
   "cell_type": "code",
   "execution_count": 13,
   "id": "bde0bf92",
   "metadata": {},
   "outputs": [
    {
     "data": {
      "text/plain": [
       "dict_keys(['df_1', 'df_2', 'df_3', 'df_4', 'df_5', 'df_desempleados_1', 'df_ocupados_1', 'df_desempleados_2', 'df_ocupados_2', 'df_desempleados_3', 'df_ocupados_3', 'df_desempleados_4', 'df_ocupados_4', 'df_desempleados_5', 'df_ocupados_5', 'df_desempleados_delta_1', 'df_desempleados_delta_2', 'df_desempleados_delta_3', 'df_desempleados_delta_4'])"
      ]
     },
     "execution_count": 13,
     "metadata": {},
     "output_type": "execute_result"
    }
   ],
   "source": [
    "df_dict.keys()"
   ]
  },
  {
   "cell_type": "code",
   "execution_count": 16,
   "id": "0a761686",
   "metadata": {},
   "outputs": [
    {
     "data": {
      "text/plain": [
       "Index(['cd_a', 'ent', 'con', 'v_sel', 'n_hog', 'n_ren', 'sex', 'eda',\n",
       "       'cs_p13_1', 'n_hij', 'e_con', 'clase1', 'clase2', 'clase3', 'd_ant_lab',\n",
       "       'dur_des', 'id'],\n",
       "      dtype='object')"
      ]
     },
     "execution_count": 16,
     "metadata": {},
     "output_type": "execute_result"
    }
   ],
   "source": [
    "list_keys = list(df_dict.keys())\n",
    "\n",
    "df_dict[list_keys[0]].columns"
   ]
  },
  {
   "cell_type": "code",
   "execution_count": 17,
   "id": "16c41a41",
   "metadata": {},
   "outputs": [
    {
     "data": {
      "text/plain": [
       "Index(['cd_a', 'ent', 'con', 'v_sel', 'n_hog', 'n_ren', 'sex', 'eda',\n",
       "       'cs_p13_1', 'n_hij', 'e_con', 'clase1', 'clase2', 'clase3', 'd_ant_lab',\n",
       "       'dur_des', 'id'],\n",
       "      dtype='object')"
      ]
     },
     "execution_count": 17,
     "metadata": {},
     "output_type": "execute_result"
    }
   ],
   "source": [
    "df_dict['df_desempleados_1'].columns"
   ]
  },
  {
   "cell_type": "code",
   "execution_count": 18,
   "id": "18624ee0",
   "metadata": {},
   "outputs": [
    {
     "data": {
      "text/plain": [
       "Index(['cd_a', 'ent', 'con', 'v_sel', 'n_hog', 'n_ren', 'sex', 'eda',\n",
       "       'cs_p13_1', 'n_hij', 'e_con', 'clase1', 'clase2', 'clase3', 'd_ant_lab',\n",
       "       'dur_des', 'id'],\n",
       "      dtype='object')"
      ]
     },
     "execution_count": 18,
     "metadata": {},
     "output_type": "execute_result"
    }
   ],
   "source": [
    "df_dict['df_ocupados_1'].columns"
   ]
  },
  {
   "cell_type": "code",
   "execution_count": 20,
   "id": "c9b7eb79",
   "metadata": {},
   "outputs": [
    {
     "data": {
      "text/plain": [
       "9          True\n",
       "15        False\n",
       "63         True\n",
       "261       False\n",
       "325       False\n",
       "          ...  \n",
       "405199    False\n",
       "405208    False\n",
       "405503     True\n",
       "405617    False\n",
       "405854     True\n",
       "Name: id, Length: 5806, dtype: bool"
      ]
     },
     "execution_count": 20,
     "metadata": {},
     "output_type": "execute_result"
    }
   ],
   "source": [
    "df_dict['df_desempleados_delta_1']"
   ]
  },
  {
   "cell_type": "code",
   "execution_count": null,
   "id": "0eeefea6",
   "metadata": {},
   "outputs": [],
   "source": []
  },
  {
   "cell_type": "code",
   "execution_count": null,
   "id": "fcdaa211",
   "metadata": {},
   "outputs": [],
   "source": []
  },
  {
   "cell_type": "code",
   "execution_count": null,
   "id": "b8b60b08",
   "metadata": {},
   "outputs": [],
   "source": []
  },
  {
   "cell_type": "code",
   "execution_count": null,
   "id": "6b53c187",
   "metadata": {},
   "outputs": [],
   "source": []
  },
  {
   "cell_type": "code",
   "execution_count": 21,
   "id": "7dac721f",
   "metadata": {},
   "outputs": [
    {
     "ename": "ValueError",
     "evalue": "columns overlap but no suffix specified: Index(['id'], dtype='object')",
     "output_type": "error",
     "traceback": [
      "\u001b[1;31m---------------------------------------------------------------------------\u001b[0m",
      "\u001b[1;31mValueError\u001b[0m                                Traceback (most recent call last)",
      "Cell \u001b[1;32mIn[21], line 6\u001b[0m\n\u001b[0;32m      1\u001b[0m df_desempleados \u001b[38;5;241m=\u001b[39m \u001b[43m(\u001b[49m\u001b[43mdf_dict\u001b[49m\u001b[43m[\u001b[49m\u001b[38;5;124;43m'\u001b[39;49m\u001b[38;5;124;43mdf_desempleados_1\u001b[39;49m\u001b[38;5;124;43m'\u001b[39;49m\u001b[43m]\u001b[49m\u001b[43m[\u001b[49m\u001b[43m[\u001b[49m\n\u001b[0;32m      2\u001b[0m \u001b[43m    \u001b[49m\u001b[38;5;124;43m'\u001b[39;49m\u001b[38;5;124;43mcd_a\u001b[39;49m\u001b[38;5;124;43m'\u001b[39;49m\u001b[43m,\u001b[49m\u001b[38;5;124;43m'\u001b[39;49m\u001b[38;5;124;43ment\u001b[39;49m\u001b[38;5;124;43m'\u001b[39;49m\u001b[43m,\u001b[49m\u001b[43m \u001b[49m\u001b[38;5;124;43m'\u001b[39;49m\u001b[38;5;124;43msex\u001b[39;49m\u001b[38;5;124;43m'\u001b[39;49m\u001b[43m,\u001b[49m\u001b[43m \u001b[49m\u001b[38;5;124;43m'\u001b[39;49m\u001b[38;5;124;43meda\u001b[39;49m\u001b[38;5;124;43m'\u001b[39;49m\u001b[43m,\u001b[49m\n\u001b[0;32m      3\u001b[0m \u001b[43m    \u001b[49m\u001b[38;5;124;43m'\u001b[39;49m\u001b[38;5;124;43mcs_p13_1\u001b[39;49m\u001b[38;5;124;43m'\u001b[39;49m\u001b[43m,\u001b[49m\u001b[38;5;124;43m'\u001b[39;49m\u001b[38;5;124;43mn_hij\u001b[39;49m\u001b[38;5;124;43m'\u001b[39;49m\u001b[43m,\u001b[49m\u001b[43m \u001b[49m\u001b[38;5;124;43m'\u001b[39;49m\u001b[38;5;124;43me_con\u001b[39;49m\u001b[38;5;124;43m'\u001b[39;49m\u001b[43m,\u001b[49m\u001b[43m \u001b[49m\n\u001b[0;32m      4\u001b[0m \u001b[43m    \u001b[49m\u001b[38;5;124;43m'\u001b[39;49m\u001b[38;5;124;43mclase1\u001b[39;49m\u001b[38;5;124;43m'\u001b[39;49m\u001b[43m,\u001b[49m\u001b[43m \u001b[49m\u001b[38;5;124;43m'\u001b[39;49m\u001b[38;5;124;43mclase2\u001b[39;49m\u001b[38;5;124;43m'\u001b[39;49m\u001b[43m,\u001b[49m\u001b[43m \u001b[49m\u001b[38;5;124;43m'\u001b[39;49m\u001b[38;5;124;43mclase3\u001b[39;49m\u001b[38;5;124;43m'\u001b[39;49m\u001b[43m,\u001b[49m\n\u001b[0;32m      5\u001b[0m \u001b[43m    \u001b[49m\u001b[38;5;124;43m'\u001b[39;49m\u001b[38;5;124;43md_ant_lab\u001b[39;49m\u001b[38;5;124;43m'\u001b[39;49m\u001b[43m,\u001b[49m\u001b[43m \u001b[49m\u001b[38;5;124;43m'\u001b[39;49m\u001b[38;5;124;43mid\u001b[39;49m\u001b[38;5;124;43m'\u001b[39;49m\n\u001b[1;32m----> 6\u001b[0m \u001b[43m    \u001b[49m\u001b[43m]\u001b[49m\u001b[43m]\u001b[49m\u001b[43m)\u001b[49m\u001b[38;5;241;43m.\u001b[39;49m\u001b[43mjoin\u001b[49m\u001b[43m(\u001b[49m\n\u001b[0;32m      7\u001b[0m \u001b[43m        \u001b[49m\u001b[43mdf_fail\u001b[49m\u001b[43m,\u001b[49m\n\u001b[0;32m      8\u001b[0m \u001b[43m        \u001b[49m\u001b[43mhow\u001b[49m\u001b[38;5;241;43m=\u001b[39;49m\u001b[38;5;124;43m'\u001b[39;49m\u001b[38;5;124;43mleft\u001b[39;49m\u001b[38;5;124;43m'\u001b[39;49m\u001b[43m,\u001b[49m\n\u001b[0;32m      9\u001b[0m \u001b[43m        \u001b[49m\u001b[43mon\u001b[49m\u001b[38;5;241;43m=\u001b[39;49m\u001b[38;5;124;43m'\u001b[39;49m\u001b[38;5;124;43mid\u001b[39;49m\u001b[38;5;124;43m'\u001b[39;49m\n\u001b[0;32m     10\u001b[0m \u001b[43m    \u001b[49m\u001b[43m)\u001b[49m\n\u001b[0;32m     11\u001b[0m df_desempleados\n",
      "File \u001b[1;32m~\\AppData\\Local\\Packages\\PythonSoftwareFoundation.Python.3.11_qbz5n2kfra8p0\\LocalCache\\local-packages\\Python311\\site-packages\\pandas\\core\\frame.py:9729\u001b[0m, in \u001b[0;36mDataFrame.join\u001b[1;34m(self, other, on, how, lsuffix, rsuffix, sort, validate)\u001b[0m\n\u001b[0;32m   9566\u001b[0m \u001b[38;5;28;01mdef\u001b[39;00m \u001b[38;5;21mjoin\u001b[39m(\n\u001b[0;32m   9567\u001b[0m     \u001b[38;5;28mself\u001b[39m,\n\u001b[0;32m   9568\u001b[0m     other: DataFrame \u001b[38;5;241m|\u001b[39m Series \u001b[38;5;241m|\u001b[39m Iterable[DataFrame \u001b[38;5;241m|\u001b[39m Series],\n\u001b[1;32m   (...)\u001b[0m\n\u001b[0;32m   9574\u001b[0m     validate: \u001b[38;5;28mstr\u001b[39m \u001b[38;5;241m|\u001b[39m \u001b[38;5;28;01mNone\u001b[39;00m \u001b[38;5;241m=\u001b[39m \u001b[38;5;28;01mNone\u001b[39;00m,\n\u001b[0;32m   9575\u001b[0m ) \u001b[38;5;241m-\u001b[39m\u001b[38;5;241m>\u001b[39m DataFrame:\n\u001b[0;32m   9576\u001b[0m \u001b[38;5;250m    \u001b[39m\u001b[38;5;124;03m\"\"\"\u001b[39;00m\n\u001b[0;32m   9577\u001b[0m \u001b[38;5;124;03m    Join columns of another DataFrame.\u001b[39;00m\n\u001b[0;32m   9578\u001b[0m \n\u001b[1;32m   (...)\u001b[0m\n\u001b[0;32m   9727\u001b[0m \u001b[38;5;124;03m    5  K1  A5   B1\u001b[39;00m\n\u001b[0;32m   9728\u001b[0m \u001b[38;5;124;03m    \"\"\"\u001b[39;00m\n\u001b[1;32m-> 9729\u001b[0m     \u001b[38;5;28;01mreturn\u001b[39;00m \u001b[38;5;28;43mself\u001b[39;49m\u001b[38;5;241;43m.\u001b[39;49m\u001b[43m_join_compat\u001b[49m\u001b[43m(\u001b[49m\n\u001b[0;32m   9730\u001b[0m \u001b[43m        \u001b[49m\u001b[43mother\u001b[49m\u001b[43m,\u001b[49m\n\u001b[0;32m   9731\u001b[0m \u001b[43m        \u001b[49m\u001b[43mon\u001b[49m\u001b[38;5;241;43m=\u001b[39;49m\u001b[43mon\u001b[49m\u001b[43m,\u001b[49m\n\u001b[0;32m   9732\u001b[0m \u001b[43m        \u001b[49m\u001b[43mhow\u001b[49m\u001b[38;5;241;43m=\u001b[39;49m\u001b[43mhow\u001b[49m\u001b[43m,\u001b[49m\n\u001b[0;32m   9733\u001b[0m \u001b[43m        \u001b[49m\u001b[43mlsuffix\u001b[49m\u001b[38;5;241;43m=\u001b[39;49m\u001b[43mlsuffix\u001b[49m\u001b[43m,\u001b[49m\n\u001b[0;32m   9734\u001b[0m \u001b[43m        \u001b[49m\u001b[43mrsuffix\u001b[49m\u001b[38;5;241;43m=\u001b[39;49m\u001b[43mrsuffix\u001b[49m\u001b[43m,\u001b[49m\n\u001b[0;32m   9735\u001b[0m \u001b[43m        \u001b[49m\u001b[43msort\u001b[49m\u001b[38;5;241;43m=\u001b[39;49m\u001b[43msort\u001b[49m\u001b[43m,\u001b[49m\n\u001b[0;32m   9736\u001b[0m \u001b[43m        \u001b[49m\u001b[43mvalidate\u001b[49m\u001b[38;5;241;43m=\u001b[39;49m\u001b[43mvalidate\u001b[49m\u001b[43m,\u001b[49m\n\u001b[0;32m   9737\u001b[0m \u001b[43m    \u001b[49m\u001b[43m)\u001b[49m\n",
      "File \u001b[1;32m~\\AppData\\Local\\Packages\\PythonSoftwareFoundation.Python.3.11_qbz5n2kfra8p0\\LocalCache\\local-packages\\Python311\\site-packages\\pandas\\core\\frame.py:9768\u001b[0m, in \u001b[0;36mDataFrame._join_compat\u001b[1;34m(self, other, on, how, lsuffix, rsuffix, sort, validate)\u001b[0m\n\u001b[0;32m   9758\u001b[0m     \u001b[38;5;28;01mif\u001b[39;00m how \u001b[38;5;241m==\u001b[39m \u001b[38;5;124m\"\u001b[39m\u001b[38;5;124mcross\u001b[39m\u001b[38;5;124m\"\u001b[39m:\n\u001b[0;32m   9759\u001b[0m         \u001b[38;5;28;01mreturn\u001b[39;00m merge(\n\u001b[0;32m   9760\u001b[0m             \u001b[38;5;28mself\u001b[39m,\n\u001b[0;32m   9761\u001b[0m             other,\n\u001b[1;32m   (...)\u001b[0m\n\u001b[0;32m   9766\u001b[0m             validate\u001b[38;5;241m=\u001b[39mvalidate,\n\u001b[0;32m   9767\u001b[0m         )\n\u001b[1;32m-> 9768\u001b[0m     \u001b[38;5;28;01mreturn\u001b[39;00m \u001b[43mmerge\u001b[49m\u001b[43m(\u001b[49m\n\u001b[0;32m   9769\u001b[0m \u001b[43m        \u001b[49m\u001b[38;5;28;43mself\u001b[39;49m\u001b[43m,\u001b[49m\n\u001b[0;32m   9770\u001b[0m \u001b[43m        \u001b[49m\u001b[43mother\u001b[49m\u001b[43m,\u001b[49m\n\u001b[0;32m   9771\u001b[0m \u001b[43m        \u001b[49m\u001b[43mleft_on\u001b[49m\u001b[38;5;241;43m=\u001b[39;49m\u001b[43mon\u001b[49m\u001b[43m,\u001b[49m\n\u001b[0;32m   9772\u001b[0m \u001b[43m        \u001b[49m\u001b[43mhow\u001b[49m\u001b[38;5;241;43m=\u001b[39;49m\u001b[43mhow\u001b[49m\u001b[43m,\u001b[49m\n\u001b[0;32m   9773\u001b[0m \u001b[43m        \u001b[49m\u001b[43mleft_index\u001b[49m\u001b[38;5;241;43m=\u001b[39;49m\u001b[43mon\u001b[49m\u001b[43m \u001b[49m\u001b[38;5;129;43;01mis\u001b[39;49;00m\u001b[43m \u001b[49m\u001b[38;5;28;43;01mNone\u001b[39;49;00m\u001b[43m,\u001b[49m\n\u001b[0;32m   9774\u001b[0m \u001b[43m        \u001b[49m\u001b[43mright_index\u001b[49m\u001b[38;5;241;43m=\u001b[39;49m\u001b[38;5;28;43;01mTrue\u001b[39;49;00m\u001b[43m,\u001b[49m\n\u001b[0;32m   9775\u001b[0m \u001b[43m        \u001b[49m\u001b[43msuffixes\u001b[49m\u001b[38;5;241;43m=\u001b[39;49m\u001b[43m(\u001b[49m\u001b[43mlsuffix\u001b[49m\u001b[43m,\u001b[49m\u001b[43m \u001b[49m\u001b[43mrsuffix\u001b[49m\u001b[43m)\u001b[49m\u001b[43m,\u001b[49m\n\u001b[0;32m   9776\u001b[0m \u001b[43m        \u001b[49m\u001b[43msort\u001b[49m\u001b[38;5;241;43m=\u001b[39;49m\u001b[43msort\u001b[49m\u001b[43m,\u001b[49m\n\u001b[0;32m   9777\u001b[0m \u001b[43m        \u001b[49m\u001b[43mvalidate\u001b[49m\u001b[38;5;241;43m=\u001b[39;49m\u001b[43mvalidate\u001b[49m\u001b[43m,\u001b[49m\n\u001b[0;32m   9778\u001b[0m \u001b[43m    \u001b[49m\u001b[43m)\u001b[49m\n\u001b[0;32m   9779\u001b[0m \u001b[38;5;28;01melse\u001b[39;00m:\n\u001b[0;32m   9780\u001b[0m     \u001b[38;5;28;01mif\u001b[39;00m on \u001b[38;5;129;01mis\u001b[39;00m \u001b[38;5;129;01mnot\u001b[39;00m \u001b[38;5;28;01mNone\u001b[39;00m:\n",
      "File \u001b[1;32m~\\AppData\\Local\\Packages\\PythonSoftwareFoundation.Python.3.11_qbz5n2kfra8p0\\LocalCache\\local-packages\\Python311\\site-packages\\pandas\\core\\reshape\\merge.py:162\u001b[0m, in \u001b[0;36mmerge\u001b[1;34m(left, right, how, on, left_on, right_on, left_index, right_index, sort, suffixes, copy, indicator, validate)\u001b[0m\n\u001b[0;32m    131\u001b[0m \u001b[38;5;129m@Substitution\u001b[39m(\u001b[38;5;124m\"\u001b[39m\u001b[38;5;130;01m\\n\u001b[39;00m\u001b[38;5;124mleft : DataFrame or named Series\u001b[39m\u001b[38;5;124m\"\u001b[39m)\n\u001b[0;32m    132\u001b[0m \u001b[38;5;129m@Appender\u001b[39m(_merge_doc, indents\u001b[38;5;241m=\u001b[39m\u001b[38;5;241m0\u001b[39m)\n\u001b[0;32m    133\u001b[0m \u001b[38;5;28;01mdef\u001b[39;00m \u001b[38;5;21mmerge\u001b[39m(\n\u001b[1;32m   (...)\u001b[0m\n\u001b[0;32m    146\u001b[0m     validate: \u001b[38;5;28mstr\u001b[39m \u001b[38;5;241m|\u001b[39m \u001b[38;5;28;01mNone\u001b[39;00m \u001b[38;5;241m=\u001b[39m \u001b[38;5;28;01mNone\u001b[39;00m,\n\u001b[0;32m    147\u001b[0m ) \u001b[38;5;241m-\u001b[39m\u001b[38;5;241m>\u001b[39m DataFrame:\n\u001b[0;32m    148\u001b[0m     op \u001b[38;5;241m=\u001b[39m _MergeOperation(\n\u001b[0;32m    149\u001b[0m         left,\n\u001b[0;32m    150\u001b[0m         right,\n\u001b[1;32m   (...)\u001b[0m\n\u001b[0;32m    160\u001b[0m         validate\u001b[38;5;241m=\u001b[39mvalidate,\n\u001b[0;32m    161\u001b[0m     )\n\u001b[1;32m--> 162\u001b[0m     \u001b[38;5;28;01mreturn\u001b[39;00m \u001b[43mop\u001b[49m\u001b[38;5;241;43m.\u001b[39;49m\u001b[43mget_result\u001b[49m\u001b[43m(\u001b[49m\u001b[43mcopy\u001b[49m\u001b[38;5;241;43m=\u001b[39;49m\u001b[43mcopy\u001b[49m\u001b[43m)\u001b[49m\n",
      "File \u001b[1;32m~\\AppData\\Local\\Packages\\PythonSoftwareFoundation.Python.3.11_qbz5n2kfra8p0\\LocalCache\\local-packages\\Python311\\site-packages\\pandas\\core\\reshape\\merge.py:811\u001b[0m, in \u001b[0;36m_MergeOperation.get_result\u001b[1;34m(self, copy)\u001b[0m\n\u001b[0;32m    807\u001b[0m     \u001b[38;5;28mself\u001b[39m\u001b[38;5;241m.\u001b[39mleft, \u001b[38;5;28mself\u001b[39m\u001b[38;5;241m.\u001b[39mright \u001b[38;5;241m=\u001b[39m \u001b[38;5;28mself\u001b[39m\u001b[38;5;241m.\u001b[39m_indicator_pre_merge(\u001b[38;5;28mself\u001b[39m\u001b[38;5;241m.\u001b[39mleft, \u001b[38;5;28mself\u001b[39m\u001b[38;5;241m.\u001b[39mright)\n\u001b[0;32m    809\u001b[0m join_index, left_indexer, right_indexer \u001b[38;5;241m=\u001b[39m \u001b[38;5;28mself\u001b[39m\u001b[38;5;241m.\u001b[39m_get_join_info()\n\u001b[1;32m--> 811\u001b[0m result \u001b[38;5;241m=\u001b[39m \u001b[38;5;28;43mself\u001b[39;49m\u001b[38;5;241;43m.\u001b[39;49m\u001b[43m_reindex_and_concat\u001b[49m\u001b[43m(\u001b[49m\n\u001b[0;32m    812\u001b[0m \u001b[43m    \u001b[49m\u001b[43mjoin_index\u001b[49m\u001b[43m,\u001b[49m\u001b[43m \u001b[49m\u001b[43mleft_indexer\u001b[49m\u001b[43m,\u001b[49m\u001b[43m \u001b[49m\u001b[43mright_indexer\u001b[49m\u001b[43m,\u001b[49m\u001b[43m \u001b[49m\u001b[43mcopy\u001b[49m\u001b[38;5;241;43m=\u001b[39;49m\u001b[43mcopy\u001b[49m\n\u001b[0;32m    813\u001b[0m \u001b[43m\u001b[49m\u001b[43m)\u001b[49m\n\u001b[0;32m    814\u001b[0m result \u001b[38;5;241m=\u001b[39m result\u001b[38;5;241m.\u001b[39m__finalize__(\u001b[38;5;28mself\u001b[39m, method\u001b[38;5;241m=\u001b[39m\u001b[38;5;28mself\u001b[39m\u001b[38;5;241m.\u001b[39m_merge_type)\n\u001b[0;32m    816\u001b[0m \u001b[38;5;28;01mif\u001b[39;00m \u001b[38;5;28mself\u001b[39m\u001b[38;5;241m.\u001b[39mindicator:\n",
      "File \u001b[1;32m~\\AppData\\Local\\Packages\\PythonSoftwareFoundation.Python.3.11_qbz5n2kfra8p0\\LocalCache\\local-packages\\Python311\\site-packages\\pandas\\core\\reshape\\merge.py:763\u001b[0m, in \u001b[0;36m_MergeOperation._reindex_and_concat\u001b[1;34m(self, join_index, left_indexer, right_indexer, copy)\u001b[0m\n\u001b[0;32m    760\u001b[0m left \u001b[38;5;241m=\u001b[39m \u001b[38;5;28mself\u001b[39m\u001b[38;5;241m.\u001b[39mleft[:]\n\u001b[0;32m    761\u001b[0m right \u001b[38;5;241m=\u001b[39m \u001b[38;5;28mself\u001b[39m\u001b[38;5;241m.\u001b[39mright[:]\n\u001b[1;32m--> 763\u001b[0m llabels, rlabels \u001b[38;5;241m=\u001b[39m \u001b[43m_items_overlap_with_suffix\u001b[49m\u001b[43m(\u001b[49m\n\u001b[0;32m    764\u001b[0m \u001b[43m    \u001b[49m\u001b[38;5;28;43mself\u001b[39;49m\u001b[38;5;241;43m.\u001b[39;49m\u001b[43mleft\u001b[49m\u001b[38;5;241;43m.\u001b[39;49m\u001b[43m_info_axis\u001b[49m\u001b[43m,\u001b[49m\u001b[43m \u001b[49m\u001b[38;5;28;43mself\u001b[39;49m\u001b[38;5;241;43m.\u001b[39;49m\u001b[43mright\u001b[49m\u001b[38;5;241;43m.\u001b[39;49m\u001b[43m_info_axis\u001b[49m\u001b[43m,\u001b[49m\u001b[43m \u001b[49m\u001b[38;5;28;43mself\u001b[39;49m\u001b[38;5;241;43m.\u001b[39;49m\u001b[43msuffixes\u001b[49m\n\u001b[0;32m    765\u001b[0m \u001b[43m\u001b[49m\u001b[43m)\u001b[49m\n\u001b[0;32m    767\u001b[0m \u001b[38;5;28;01mif\u001b[39;00m left_indexer \u001b[38;5;129;01mis\u001b[39;00m \u001b[38;5;129;01mnot\u001b[39;00m \u001b[38;5;28;01mNone\u001b[39;00m \u001b[38;5;129;01mand\u001b[39;00m \u001b[38;5;129;01mnot\u001b[39;00m is_range_indexer(left_indexer, \u001b[38;5;28mlen\u001b[39m(left)):\n\u001b[0;32m    768\u001b[0m     \u001b[38;5;66;03m# Pinning the index here (and in the right code just below) is not\u001b[39;00m\n\u001b[0;32m    769\u001b[0m     \u001b[38;5;66;03m#  necessary, but makes the `.take` more performant if we have e.g.\u001b[39;00m\n\u001b[0;32m    770\u001b[0m     \u001b[38;5;66;03m#  a MultiIndex for left.index.\u001b[39;00m\n\u001b[0;32m    771\u001b[0m     lmgr \u001b[38;5;241m=\u001b[39m left\u001b[38;5;241m.\u001b[39m_mgr\u001b[38;5;241m.\u001b[39mreindex_indexer(\n\u001b[0;32m    772\u001b[0m         join_index,\n\u001b[0;32m    773\u001b[0m         left_indexer,\n\u001b[1;32m   (...)\u001b[0m\n\u001b[0;32m    778\u001b[0m         use_na_proxy\u001b[38;5;241m=\u001b[39m\u001b[38;5;28;01mTrue\u001b[39;00m,\n\u001b[0;32m    779\u001b[0m     )\n",
      "File \u001b[1;32m~\\AppData\\Local\\Packages\\PythonSoftwareFoundation.Python.3.11_qbz5n2kfra8p0\\LocalCache\\local-packages\\Python311\\site-packages\\pandas\\core\\reshape\\merge.py:2604\u001b[0m, in \u001b[0;36m_items_overlap_with_suffix\u001b[1;34m(left, right, suffixes)\u001b[0m\n\u001b[0;32m   2601\u001b[0m lsuffix, rsuffix \u001b[38;5;241m=\u001b[39m suffixes\n\u001b[0;32m   2603\u001b[0m \u001b[38;5;28;01mif\u001b[39;00m \u001b[38;5;129;01mnot\u001b[39;00m lsuffix \u001b[38;5;129;01mand\u001b[39;00m \u001b[38;5;129;01mnot\u001b[39;00m rsuffix:\n\u001b[1;32m-> 2604\u001b[0m     \u001b[38;5;28;01mraise\u001b[39;00m \u001b[38;5;167;01mValueError\u001b[39;00m(\u001b[38;5;124mf\u001b[39m\u001b[38;5;124m\"\u001b[39m\u001b[38;5;124mcolumns overlap but no suffix specified: \u001b[39m\u001b[38;5;132;01m{\u001b[39;00mto_rename\u001b[38;5;132;01m}\u001b[39;00m\u001b[38;5;124m\"\u001b[39m)\n\u001b[0;32m   2606\u001b[0m \u001b[38;5;28;01mdef\u001b[39;00m \u001b[38;5;21mrenamer\u001b[39m(x, suffix):\n\u001b[0;32m   2607\u001b[0m \u001b[38;5;250m    \u001b[39m\u001b[38;5;124;03m\"\"\"\u001b[39;00m\n\u001b[0;32m   2608\u001b[0m \u001b[38;5;124;03m    Rename the left and right indices.\u001b[39;00m\n\u001b[0;32m   2609\u001b[0m \n\u001b[1;32m   (...)\u001b[0m\n\u001b[0;32m   2620\u001b[0m \u001b[38;5;124;03m    x : renamed column name\u001b[39;00m\n\u001b[0;32m   2621\u001b[0m \u001b[38;5;124;03m    \"\"\"\u001b[39;00m\n",
      "\u001b[1;31mValueError\u001b[0m: columns overlap but no suffix specified: Index(['id'], dtype='object')"
     ]
    }
   ],
   "source": [
    "df_desempleados = (df_dict['df_desempleados_1'][[\n",
    "    'cd_a','ent', 'sex', 'eda',\n",
    "    'cs_p13_1','n_hij', 'e_con', \n",
    "    'clase1', 'clase2', 'clase3',\n",
    "    'd_ant_lab', 'id'\n",
    "    ]]).join(\n",
    "        df_fail,\n",
    "        how='left',\n",
    "        on='id'\n",
    "    )\n",
    "df_desempleados"
   ]
  },
  {
   "cell_type": "code",
   "execution_count": null,
   "id": "99f23d36",
   "metadata": {},
   "outputs": [],
   "source": []
  },
  {
   "cell_type": "code",
   "execution_count": null,
   "id": "ca5c1dc9",
   "metadata": {},
   "outputs": [],
   "source": []
  },
  {
   "cell_type": "code",
   "execution_count": null,
   "id": "ea94f7cc",
   "metadata": {},
   "outputs": [],
   "source": []
  },
  {
   "cell_type": "code",
   "execution_count": null,
   "id": "be818e84",
   "metadata": {},
   "outputs": [],
   "source": []
  },
  {
   "cell_type": "code",
   "execution_count": 92,
   "id": "e598795c",
   "metadata": {},
   "outputs": [
    {
     "data": {
      "text/plain": [
       "(ID    725\n",
       " dtype: int64,\n",
       " ID    450\n",
       " dtype: int64,\n",
       " ID    235\n",
       " dtype: int64,\n",
       " ID    235\n",
       " dtype: int64)"
      ]
     },
     "execution_count": 92,
     "metadata": {},
     "output_type": "execute_result"
    }
   ],
   "source": [
    "siguen_2019_i_a_2019_ii.sum(),   siguen_2019_i_a_2019_iii.sum(),   siguen_2019_i_a_2019_iv.sum(),  siguen_2019_i_a_2020_i.sum()"
   ]
  },
  {
   "cell_type": "code",
   "execution_count": 93,
   "id": "b690a476",
   "metadata": {},
   "outputs": [],
   "source": [
    "# dejan de observarse en el sig periodo\n",
    "dejado_2019_i_a_2019_ii   = (~chidos_2019_i_a_2019_ii)&(~siguen_2019_i_a_2019_ii) \n",
    "dejado_2019_ii_a_2019_iii = (~chidos_2019_ii_a_2019_iii)&(~siguen_2019_ii_a_2019_iii) \n",
    "dejado_2019_iii_a_2019_iv = (~chidos_2019_iii_a_2019_iv)&(~siguen_2019_iii_a_2019_iv) \n",
    "dejado_2019_iv_a_2020_i   = (~chidos_2019_iv_a_2020_i)&(~siguen_2019_iv_a_2020_i) "
   ]
  },
  {
   "cell_type": "code",
   "execution_count": 94,
   "id": "7cf1d2fa",
   "metadata": {},
   "outputs": [],
   "source": [
    "chidos_19i_a_19ii   = df_dese_2019_i[chidos_2019_i_a_2019_ii.to_numpy().flatten()]\n",
    "chidos_19ii_a_19iii = df_dese_2019_ii[chidos_2019_ii_a_2019_iii.to_numpy().flatten()]\n",
    "chidos_19iii_a_19iv = df_dese_2019_iii[chidos_2019_iii_a_2019_iv.to_numpy().flatten()]\n",
    "chidos_19iv_a_20i   = df_dese_2019_iv[chidos_2019_iv_a_2020_i.to_numpy().flatten()]"
   ]
  },
  {
   "cell_type": "code",
   "execution_count": 95,
   "id": "f67a08eb",
   "metadata": {},
   "outputs": [],
   "source": [
    "# siguen desempleados desde el primer periodo hasta 2020:i,  etc\n",
    "des_19i_a_20_i   = df_dese_2019_i[siguen_2019_i_a_2020_i.to_numpy().flatten()]\n",
    "des_19ii_a_20_i  = df_dese_2019_ii[siguen_2019_ii_a_2020_i.to_numpy().flatten()]\n",
    "des_19iii_a_20_i = df_dese_2019_iii[siguen_2019_iii_a_2020_i.to_numpy().flatten()]\n",
    "des_19iv_a_20_i  = df_dese_2019_iv[siguen_2019_iv_a_2020_i.to_numpy().flatten()]"
   ]
  },
  {
   "cell_type": "code",
   "execution_count": 96,
   "id": "09994781",
   "metadata": {},
   "outputs": [],
   "source": [
    "# juntamos datos\n",
    "df_CHIDOS_ = pd.concat([chidos_19i_a_19ii, chidos_19ii_a_19iii, chidos_19iii_a_19iv, chidos_19iv_a_20i])\n",
    "# agrega columna indicadora\n",
    "df_CHIDOS_ = df_CHIDOS_.reset_index().join( pd.DataFrame(np.ones(df_CHIDOS_.shape[0]), columns=['Delta']) )\n",
    "df_DESE_   = df2020_1_f[desempleados_2020_1]\n",
    "# agrega columna indicadora de que estos individuos no experimentaron entrar en ocupación despues de estár desoscupados\n",
    "df_DESE_ = df_DESE_.reset_index().join( pd.DataFrame(np.zeros(df_DESE_.shape[0]), columns=['Delta']) )"
   ]
  },
  {
   "cell_type": "code",
   "execution_count": 99,
   "id": "74246f1c",
   "metadata": {},
   "outputs": [],
   "source": [
    "#guarda datos de población de interés en un solo DF\n",
    "df_FINAL_v1 = pd.concat([df_CHIDOS_[['cd_a', 'ent', 'sex', 'eda', 'cs_p13_1', 'n_hij', 'e_con', 'd_ant_lab', 'dur_des','Delta']],\n",
    "                         df_DESE_[['cd_a', 'ent', 'sex', 'eda', 'cs_p13_1', 'n_hij', 'e_con', 'd_ant_lab', 'dur_des','Delta']]], ignore_index=True)"
   ]
  },
  {
   "cell_type": "code",
   "execution_count": null,
   "id": "b8767554",
   "metadata": {},
   "outputs": [],
   "source": []
  },
  {
   "cell_type": "code",
   "execution_count": null,
   "id": "3bf21e0f",
   "metadata": {},
   "outputs": [],
   "source": []
  },
  {
   "cell_type": "code",
   "execution_count": null,
   "id": "06577287",
   "metadata": {},
   "outputs": [],
   "source": []
  },
  {
   "cell_type": "code",
   "execution_count": null,
   "id": "6a5b25da",
   "metadata": {},
   "outputs": [],
   "source": [
    "df2019_1_f[desempleados_2019_1]"
   ]
  },
  {
   "cell_type": "code",
   "execution_count": null,
   "id": "ec54a506",
   "metadata": {},
   "outputs": [],
   "source": [
    "# revisa que personas estaban en desempleo y consiguieron ser empleados\n",
    "chidos_2019_i_a_2019_ii = df_dese_2019_i[['ID']].isin(df_ocup_2019_ii['ID'].values)"
   ]
  },
  {
   "cell_type": "code",
   "execution_count": 81,
   "id": "25a3cdd0",
   "metadata": {},
   "outputs": [],
   "source": [
    "#pea_2019_1 = (df2019_1_f['clase1']==1)\n",
    "#pnea_2019_1 = (df2019_1_f['clase1']==2)\n",
    "#ocupados_2019_1 = ((df2019_1_f['clase1']==1) & (df2019_1_f['clase2']==1))\n",
    "#desocupados_2019_1 = ((df2019_1_f['clase1']==1) & (df2019_1_f['clase2']==2))\n",
    "#disponibles_2019_1 = ((df2019_1_f['clase1']==1) & (df2019_1_f['clase2']==3))\n",
    "#no_disponib_2019_1 = ((df2019_1_f['clase1']==1) & (df2019_1_f['clase2']==4))\n",
    "#desempleados_2019_1 = ((df2019_1_f['clase1']==1) & (df2019_1_f['clase2']==2)) & ((df2019_1_f['clase3']==5) | (df2019_1_f['clase3']==6))  & (df2019_1_f['dur_des']  != 6)"
   ]
  },
  {
   "cell_type": "code",
   "execution_count": 5,
   "id": "409e6d7a",
   "metadata": {},
   "outputs": [],
   "source": [
    "df_dese_2019_i   = df2019_1_f[desempleados_2019_1]\n",
    "df_dese_2019_ii  = df2019_2_f[desempleados_2019_2]\n",
    "df_dese_2019_iii = df2019_3_f[desempleados_2019_3]\n",
    "df_dese_2019_iv  = df2019_4_f[desempleados_2019_4]\n",
    "df_dese_2020_i   = df2020_1_f[desempleados_2020_1]\n",
    "\n",
    "df_ocup_2019_i   = df2019_1_f[ocupados_2019_1]\n",
    "df_ocup_2019_ii  = df2019_2_f[ocupados_2019_2]\n",
    "df_ocup_2019_iii = df2019_3_f[ocupados_2019_3]\n",
    "df_ocup_2019_iv  = df2019_4_f[ocupados_2019_4]\n",
    "df_ocup_2020_i   = df2020_1_f[ocupados_2020_1]"
   ]
  },
  {
   "cell_type": "code",
   "execution_count": 8,
   "id": "c2859d00",
   "metadata": {},
   "outputs": [],
   "source": [
    "# quienes siguen buscando empleo en el sig. periodo\n",
    "siguen_2019_i_a_2019_ii  = df_dese_2019_i[['ID']].isin(df_dese_2019_ii['ID'].values)\n",
    "siguen_2019_i_a_2019_iii = df_dese_2019_i[['ID']].isin(df_dese_2019_iii['ID'].values)\n",
    "siguen_2019_i_a_2019_iv  = df_dese_2019_i[['ID']].isin(df_dese_2019_iv['ID'].values)\n",
    "siguen_2019_i_a_2020_i   = df_dese_2019_i[['ID']].isin(df_dese_2020_i['ID'].values)\n",
    "\n",
    "siguen_2019_ii_a_2019_iii = df_dese_2019_ii[['ID']].isin(df_dese_2019_iii['ID'].values)\n",
    "siguen_2019_ii_a_2019_iv  = df_dese_2019_ii[['ID']].isin(df_dese_2019_iv['ID'].values)\n",
    "siguen_2019_ii_a_2020_i   = df_dese_2019_ii[['ID']].isin(df_dese_2020_i['ID'].values)\n",
    "\n",
    "siguen_2019_iii_a_2019_iv = df_dese_2019_iii[['ID']].isin(df_dese_2019_iv['ID'].values)\n",
    "siguen_2019_iii_a_2020_i  = df_dese_2019_iii[['ID']].isin(df_dese_2020_i['ID'].values)\n",
    "\n",
    "siguen_2019_iv_a_2020_i   = df_dese_2019_iv[['ID']].isin(df_dese_2020_i['ID'].values)"
   ]
  },
  {
   "cell_type": "code",
   "execution_count": 9,
   "id": "79ff7410",
   "metadata": {},
   "outputs": [
    {
     "data": {
      "text/plain": [
       "(ID    725\n",
       " dtype: int64,\n",
       " ID    450\n",
       " dtype: int64,\n",
       " ID    235\n",
       " dtype: int64,\n",
       " ID    235\n",
       " dtype: int64)"
      ]
     },
     "execution_count": 9,
     "metadata": {},
     "output_type": "execute_result"
    }
   ],
   "source": [
    "siguen_2019_i_a_2019_ii.sum(),   siguen_2019_i_a_2019_iii.sum(),   siguen_2019_i_a_2019_iv.sum(),  siguen_2019_i_a_2020_i.sum()"
   ]
  },
  {
   "cell_type": "code",
   "execution_count": 10,
   "id": "64ed8a28",
   "metadata": {},
   "outputs": [],
   "source": [
    "# dejan de observarse en el sig periodo\n",
    "dejado_2019_i_a_2019_ii   = (~chidos_2019_i_a_2019_ii)&(~siguen_2019_i_a_2019_ii) \n",
    "dejado_2019_ii_a_2019_iii = (~chidos_2019_ii_a_2019_iii)&(~siguen_2019_ii_a_2019_iii) \n",
    "dejado_2019_iii_a_2019_iv = (~chidos_2019_iii_a_2019_iv)&(~siguen_2019_iii_a_2019_iv) \n",
    "dejado_2019_iv_a_2020_i   = (~chidos_2019_iv_a_2020_i)&(~siguen_2019_iv_a_2020_i) "
   ]
  },
  {
   "cell_type": "code",
   "execution_count": 11,
   "id": "f70a651e",
   "metadata": {},
   "outputs": [],
   "source": [
    "chidos_19i_a_19ii   = df_dese_2019_i[chidos_2019_i_a_2019_ii.to_numpy().flatten()]\n",
    "chidos_19ii_a_19iii = df_dese_2019_ii[chidos_2019_ii_a_2019_iii.to_numpy().flatten()]\n",
    "chidos_19iii_a_19iv = df_dese_2019_iii[chidos_2019_iii_a_2019_iv.to_numpy().flatten()]\n",
    "chidos_19iv_a_20i   = df_dese_2019_iv[chidos_2019_iv_a_2020_i.to_numpy().flatten()]"
   ]
  },
  {
   "cell_type": "code",
   "execution_count": 12,
   "id": "f52df0b7",
   "metadata": {},
   "outputs": [],
   "source": [
    "# siguen desempleados desde el primer periodo hasta 2020:i,  etc\n",
    "des_19i_a_20_i   = df_dese_2019_i[siguen_2019_i_a_2020_i.to_numpy().flatten()]\n",
    "des_19ii_a_20_i  = df_dese_2019_ii[siguen_2019_ii_a_2020_i.to_numpy().flatten()]\n",
    "des_19iii_a_20_i = df_dese_2019_iii[siguen_2019_iii_a_2020_i.to_numpy().flatten()]\n",
    "des_19iv_a_20_i  = df_dese_2019_iv[siguen_2019_iv_a_2020_i.to_numpy().flatten()]"
   ]
  },
  {
   "cell_type": "code",
   "execution_count": 13,
   "id": "f7f7b02a",
   "metadata": {},
   "outputs": [],
   "source": [
    "# juntamos datos\n",
    "df_CHIDOS_ = pd.concat([chidos_19i_a_19ii, chidos_19ii_a_19iii, chidos_19iii_a_19iv, chidos_19iv_a_20i])\n",
    "# agrega columna indicadora\n",
    "df_CHIDOS_ = df_CHIDOS_.reset_index().join( pd.DataFrame(np.ones(df_CHIDOS_.shape[0]), columns=['Delta']) )\n",
    "df_DESE_   = df2020_1_f[desempleados_2020_1]\n",
    "# agrega columna indicadora de que estos individuos no experimentaron entrar en ocupación despues de estár desoscupados\n",
    "df_DESE_ = df_DESE_.reset_index().join( pd.DataFrame(np.zeros(df_DESE_.shape[0]), columns=['Delta']) )"
   ]
  },
  {
   "cell_type": "code",
   "execution_count": 14,
   "id": "ac3702d1",
   "metadata": {},
   "outputs": [],
   "source": [
    "# guarda datos de población de interés en un solo DF\n",
    "df_FINAL_v1 = pd.concat([df_CHIDOS_[['cd_a', 'ent', 'sex', 'eda', 'cs_p13_1', 'n_hij', 'e_con', 'd_ant_lab', 'dur_des','Delta']],\n",
    "                         df_DESE_[['cd_a', 'ent', 'sex', 'eda', 'cs_p13_1', 'n_hij', 'e_con', 'd_ant_lab', 'dur_des','Delta']]], ignore_index=True)"
   ]
  },
  {
   "cell_type": "code",
   "execution_count": 15,
   "id": "f6168aab",
   "metadata": {},
   "outputs": [],
   "source": [
    "# definimos variables al aplicar las funciones definidas al inicio\n",
    "df_FINAL_v1['inferior'] = df_FINAL_v1.apply(inferior, axis=1)\n",
    "df_FINAL_v1['superior'] = df_FINAL_v1.apply(superior, axis=1)\n",
    "df_FINAL_v1['imp_med']  = df_FINAL_v1.apply(imp_med, axis=1)\n",
    "df_FINAL_v1['region']   = df_FINAL_v1.apply(macro_region, axis=1)\n",
    "df_FINAL_v1['region_o'] = df_FINAL_v1['region'].astype(object)  \n",
    "df_FINAL_v1['chamacos'] = df_FINAL_v1.apply(chamacos, axis=1)\n",
    "\n",
    "df_FINAL_v1['genero']   = df_FINAL_v1.apply(genero, axis=1)\n",
    "df_FINAL_v1['niv_ed']   = df_FINAL_v1.apply(niv_ed, axis=1)\n",
    "df_FINAL_v1['ant_lab']  = df_FINAL_v1.apply(ant_lab, axis=1)\n",
    "df_FINAL_v1['eda']      = df_FINAL_v1[['eda']].astype(int)\n",
    "df_FINAL_v1['Etapa']    = df_FINAL_v1.apply(etapa_vida, axis=1)"
   ]
  },
  {
   "cell_type": "code",
   "execution_count": 16,
   "id": "7b040c5f",
   "metadata": {},
   "outputs": [
    {
     "data": {
      "text/plain": [
       "niv_ed    180\n",
       "dtype: int64"
      ]
     },
     "execution_count": 16,
     "metadata": {},
     "output_type": "execute_result"
    }
   ],
   "source": [
    "# personas que no espeficiaron nivel de educación, puede sesgar inferencias si se utiliza niv de educ\n",
    "(df_FINAL_v1[['niv_ed']] == 100).sum()"
   ]
  },
  {
   "cell_type": "code",
   "execution_count": 17,
   "id": "b38e4453",
   "metadata": {},
   "outputs": [],
   "source": [
    "# eliminamos personas que no espeficiaron nivel de educación\n",
    "df_FINAL_v1 = df_FINAL_v1[(df_FINAL_v1['niv_ed'] != 100).to_numpy()]"
   ]
  },
  {
   "cell_type": "code",
   "execution_count": 18,
   "id": "62fbd340",
   "metadata": {},
   "outputs": [
    {
     "data": {
      "text/plain": [
       "5183"
      ]
     },
     "execution_count": 18,
     "metadata": {},
     "output_type": "execute_result"
    }
   ],
   "source": [
    "(df_FINAL_v1['n_hij'] != ' ').sum()"
   ]
  },
  {
   "cell_type": "code",
   "execution_count": 19,
   "id": "b01790e3",
   "metadata": {},
   "outputs": [
    {
     "data": {
      "text/plain": [
       "0"
      ]
     },
     "execution_count": 19,
     "metadata": {},
     "output_type": "execute_result"
    }
   ],
   "source": [
    "# número de diferencia de observaciones al eliminar personas que no espeficiaron nivel de educación\n",
    "df_FINAL_v1.shape[0] - df_FINAL_v1.shape[0]"
   ]
  },
  {
   "cell_type": "code",
   "execution_count": 20,
   "id": "d7d8b82f",
   "metadata": {},
   "outputs": [],
   "source": [
    "df_FINAL_v1_chamacos = df_FINAL_v1[df_FINAL_v1['chamacos'] !=  -1]"
   ]
  },
  {
   "cell_type": "code",
   "execution_count": 21,
   "id": "6b46271c",
   "metadata": {
    "scrolled": false
   },
   "outputs": [
    {
     "data": {
      "text/plain": [
       "(0, 0, 0, 0, 0, 0)"
      ]
     },
     "execution_count": 21,
     "metadata": {},
     "output_type": "execute_result"
    }
   ],
   "source": [
    "# deben de ser (0, 0, 0, 0, 0, 0) o falta hacer algo\n",
    "(df_FINAL_v1[['region']] == -1).sum()[0], (df_FINAL_v1[['ant_lab']] == -1).sum()[0], (df_FINAL_v1[['ant_lab']] == -1).sum()[0],  (df_FINAL_v1[['inferior']] == -1).sum()[0],  (df_FINAL_v1[['superior']] == -1).sum()[0], (df_FINAL_v1[['niv_ed']] == 100).sum()[0]"
   ]
  },
  {
   "cell_type": "code",
   "execution_count": 22,
   "id": "2d852f8d",
   "metadata": {},
   "outputs": [
    {
     "data": {
      "text/plain": [
       "(0, 0)"
      ]
     },
     "execution_count": 22,
     "metadata": {},
     "output_type": "execute_result"
    }
   ],
   "source": [
    "# deben de ser (0, 0) o falta hacer algo\n",
    "(df_FINAL_v1[['eda']] < 12).sum()[0], (df_FINAL_v1[['eda']] > 98).sum()[0]"
   ]
  },
  {
   "cell_type": "code",
   "execution_count": 23,
   "id": "e153249b",
   "metadata": {
    "scrolled": true
   },
   "outputs": [],
   "source": [
    "df_FINAL_todo     = (df_FINAL_v1[['dur_des', 'imp_med', 'inferior', 'superior', 'Delta', 'cd_a', 'ent', 'region', 'genero', 'eda', 'niv_ed', 'chamacos', 'ant_lab', 'Etapa']].reset_index())[['dur_des','imp_med', 'inferior', 'superior', 'Delta', 'cd_a', 'ent', 'region', 'genero', 'eda', 'niv_ed', 'chamacos', 'ant_lab', 'Etapa']]\n",
    "df_FINAL_chamacos = (df_FINAL_v1_chamacos[['dur_des','imp_med', 'inferior', 'superior', 'Delta', 'cd_a', 'ent', 'region', 'genero', 'eda', 'niv_ed', 'chamacos', 'ant_lab', 'Etapa']].reset_index())[['dur_des','imp_med', 'inferior', 'superior', 'Delta', 'cd_a', 'ent', 'region', 'genero', 'eda', 'niv_ed', 'chamacos', 'ant_lab', 'Etapa']]"
   ]
  },
  {
   "cell_type": "code",
   "execution_count": 24,
   "id": "dd180d3f",
   "metadata": {},
   "outputs": [
    {
     "data": {
      "text/plain": [
       "5183"
      ]
     },
     "execution_count": 24,
     "metadata": {},
     "output_type": "execute_result"
    }
   ],
   "source": [
    "df_FINAL_chamacos.genero.values.sum()"
   ]
  },
  {
   "cell_type": "code",
   "execution_count": 25,
   "id": "f51ea86c",
   "metadata": {
    "scrolled": false
   },
   "outputs": [
    {
     "data": {
      "text/plain": [
       "cd_a           int64\n",
       "ent            int64\n",
       "sex           object\n",
       "eda            int32\n",
       "cs_p13_1      object\n",
       "n_hij         object\n",
       "e_con         object\n",
       "d_ant_lab      int64\n",
       "dur_des        int64\n",
       "Delta        float64\n",
       "inferior       int64\n",
       "superior       int64\n",
       "imp_med      float64\n",
       "region         int64\n",
       "region_o      object\n",
       "chamacos       int64\n",
       "genero         int64\n",
       "niv_ed         int64\n",
       "ant_lab        int64\n",
       "Etapa          int64\n",
       "dtype: object"
      ]
     },
     "execution_count": 25,
     "metadata": {},
     "output_type": "execute_result"
    }
   ],
   "source": [
    "# imprime tipo de datos en la base\n",
    "df_FINAL_v1.dtypes"
   ]
  },
  {
   "cell_type": "code",
   "execution_count": 26,
   "id": "be124cff",
   "metadata": {
    "scrolled": false
   },
   "outputs": [
    {
     "data": {
      "text/plain": [
       "cd_a         0\n",
       "ent          0\n",
       "sex          0\n",
       "eda          0\n",
       "cs_p13_1     0\n",
       "n_hij        0\n",
       "e_con        0\n",
       "d_ant_lab    0\n",
       "dur_des      0\n",
       "Delta        0\n",
       "inferior     0\n",
       "superior     0\n",
       "imp_med      0\n",
       "region       0\n",
       "region_o     0\n",
       "chamacos     0\n",
       "genero       0\n",
       "niv_ed       0\n",
       "ant_lab      0\n",
       "Etapa        0\n",
       "dtype: int64"
      ]
     },
     "execution_count": 26,
     "metadata": {},
     "output_type": "execute_result"
    }
   ],
   "source": [
    "df_FINAL_v1.isna().sum()"
   ]
  },
  {
   "cell_type": "code",
   "execution_count": 27,
   "id": "97f3f20d",
   "metadata": {},
   "outputs": [],
   "source": [
    "# guarda base de dato  en .xlsx\n",
    "df_FINAL_todo.to_excel(r'C:\\Users\\luis9\\OneDrive\\CIMAT PPE\\Semestres\\S04\\Tesis\\output.xlsx')\n",
    "df_FINAL_chamacos.to_excel(r'C:\\Users\\luis9\\OneDrive\\CIMAT PPE\\Semestres\\S04\\Tesis\\output_chamacos.xlsx')"
   ]
  }
 ],
 "metadata": {
  "kernelspec": {
   "display_name": "Python 3 (ipykernel)",
   "language": "python",
   "name": "python3"
  },
  "language_info": {
   "codemirror_mode": {
    "name": "ipython",
    "version": 3
   },
   "file_extension": ".py",
   "mimetype": "text/x-python",
   "name": "python",
   "nbconvert_exporter": "python",
   "pygments_lexer": "ipython3",
   "version": "3.11.6"
  }
 },
 "nbformat": 4,
 "nbformat_minor": 5
}
